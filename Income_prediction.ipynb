{
  "cells": [
    {
      "cell_type": "markdown",
      "metadata": {
        "id": "view-in-github",
        "colab_type": "text"
      },
      "source": [
        "<a href=\"https://colab.research.google.com/github/Panda-Ani/Income_Prediction/blob/main/Income_prediction.ipynb\" target=\"_parent\"><img src=\"https://colab.research.google.com/assets/colab-badge.svg\" alt=\"Open In Colab\"/></a>"
      ]
    },
    {
      "cell_type": "code",
      "source": [
        "from google.colab import drive\n",
        "drive.mount('/content/drive')"
      ],
      "metadata": {
        "id": "UdBXt9mzOi8A",
        "colab": {
          "base_uri": "https://localhost:8080/"
        },
        "outputId": "425b9dba-b17a-488d-a23e-91f7ca12a179"
      },
      "id": "UdBXt9mzOi8A",
      "execution_count": null,
      "outputs": [
        {
          "output_type": "stream",
          "name": "stdout",
          "text": [
            "Drive already mounted at /content/drive; to attempt to forcibly remount, call drive.mount(\"/content/drive\", force_remount=True).\n"
          ]
        }
      ]
    },
    {
      "cell_type": "code",
      "execution_count": null,
      "id": "d6fee81b",
      "metadata": {
        "id": "d6fee81b"
      },
      "outputs": [],
      "source": [
        "# pip install xgboost"
      ]
    },
    {
      "cell_type": "code",
      "execution_count": null,
      "id": "8e38d15d",
      "metadata": {
        "id": "8e38d15d",
        "colab": {
          "base_uri": "https://localhost:8080/",
          "height": 17
        },
        "outputId": "af417b17-8d88-4528-8d5f-2388b31802f4"
      },
      "outputs": [
        {
          "output_type": "display_data",
          "data": {
            "text/html": [
              "        <script type=\"text/javascript\">\n",
              "        window.PlotlyConfig = {MathJaxConfig: 'local'};\n",
              "        if (window.MathJax && window.MathJax.Hub && window.MathJax.Hub.Config) {window.MathJax.Hub.Config({SVG: {font: \"STIX-Web\"}});}\n",
              "        if (typeof require !== 'undefined') {\n",
              "        require.undef(\"plotly\");\n",
              "        requirejs.config({\n",
              "            paths: {\n",
              "                'plotly': ['https://cdn.plot.ly/plotly-2.18.2.min']\n",
              "            }\n",
              "        });\n",
              "        require(['plotly'], function(Plotly) {\n",
              "            window._Plotly = Plotly;\n",
              "        });\n",
              "        }\n",
              "        </script>\n",
              "        "
            ]
          },
          "metadata": {}
        }
      ],
      "source": [
        "import pandas as pd\n",
        "import numpy as np\n",
        "import matplotlib.pyplot as plt\n",
        "%matplotlib inline\n",
        "import seaborn as sns\n",
        "from plotly.offline import iplot\n",
        "import plotly as py\n",
        "py.offline.init_notebook_mode(connected=True)\n",
        "\n",
        "from sklearn.preprocessing import LabelEncoder\n",
        "from sklearn.model_selection import train_test_split\n",
        "from sklearn.preprocessing import StandardScaler\n",
        "from sklearn.linear_model import LogisticRegression\n",
        "from sklearn.neighbors import KNeighborsClassifier\n",
        "from sklearn.tree import DecisionTreeClassifier\n",
        "from sklearn.ensemble import RandomForestClassifier\n",
        "from sklearn.ensemble import AdaBoostClassifier\n",
        "from sklearn.svm import SVC\n",
        "from sklearn.ensemble import GradientBoostingClassifier\n",
        "from xgboost import XGBClassifier\n",
        "from sklearn.metrics import accuracy_score,confusion_matrix,classification_report\n",
        "import warnings\n",
        "warnings.filterwarnings('ignore')"
      ]
    },
    {
      "cell_type": "code",
      "execution_count": null,
      "id": "501fa1b3",
      "metadata": {
        "id": "501fa1b3"
      },
      "outputs": [],
      "source": [
        "df_census = pd.read_csv(\"/content/drive/MyDrive/Adult/Actual_Adult.csv\")"
      ]
    },
    {
      "cell_type": "code",
      "execution_count": null,
      "id": "4a5b353d",
      "metadata": {
        "id": "4a5b353d",
        "colab": {
          "base_uri": "https://localhost:8080/",
          "height": 601
        },
        "outputId": "a4e7c8ad-3a50-4538-a504-09b553edcf70"
      },
      "outputs": [
        {
          "output_type": "execute_result",
          "data": {
            "text/plain": [
              "   Age          Workclass  Fnlwgt      Education  Education_num  \\\n",
              "0   50   Self-emp-not-inc   83311      Bachelors             13   \n",
              "1   38            Private  215646        HS-grad              9   \n",
              "2   53            Private  234721           11th              7   \n",
              "3   28            Private  338409      Bachelors             13   \n",
              "4   37            Private  284582        Masters             14   \n",
              "5   49            Private  160187            9th              5   \n",
              "6   52   Self-emp-not-inc  209642        HS-grad              9   \n",
              "7   31            Private   45781        Masters             14   \n",
              "8   42            Private  159449      Bachelors             13   \n",
              "9   37            Private  280464   Some-college             10   \n",
              "\n",
              "           Marital_status          Occupation    Relationship    Race  \\\n",
              "0      Married-civ-spouse     Exec-managerial         Husband   White   \n",
              "1                Divorced   Handlers-cleaners   Not-in-family   White   \n",
              "2      Married-civ-spouse   Handlers-cleaners         Husband   Black   \n",
              "3      Married-civ-spouse      Prof-specialty            Wife   Black   \n",
              "4      Married-civ-spouse     Exec-managerial            Wife   White   \n",
              "5   Married-spouse-absent       Other-service   Not-in-family   Black   \n",
              "6      Married-civ-spouse     Exec-managerial         Husband   White   \n",
              "7           Never-married      Prof-specialty   Not-in-family   White   \n",
              "8      Married-civ-spouse     Exec-managerial         Husband   White   \n",
              "9      Married-civ-spouse     Exec-managerial         Husband   Black   \n",
              "\n",
              "       Sex  Capital_gain  Capital_loss  Hours_per_week  Native_country  Income  \n",
              "0     Male             0             0              13   United-States   <=50K  \n",
              "1     Male             0             0              40   United-States   <=50K  \n",
              "2     Male             0             0              40   United-States   <=50K  \n",
              "3   Female             0             0              40            Cuba   <=50K  \n",
              "4   Female             0             0              40   United-States   <=50K  \n",
              "5   Female             0             0              16         Jamaica   <=50K  \n",
              "6     Male             0             0              45   United-States    >50K  \n",
              "7   Female         14084             0              50   United-States    >50K  \n",
              "8     Male          5178             0              40   United-States    >50K  \n",
              "9     Male             0             0              80   United-States    >50K  "
            ],
            "text/html": [
              "\n",
              "  <div id=\"df-68d8387e-bcee-4950-8a74-f3ddae0595b5\">\n",
              "    <div class=\"colab-df-container\">\n",
              "      <div>\n",
              "<style scoped>\n",
              "    .dataframe tbody tr th:only-of-type {\n",
              "        vertical-align: middle;\n",
              "    }\n",
              "\n",
              "    .dataframe tbody tr th {\n",
              "        vertical-align: top;\n",
              "    }\n",
              "\n",
              "    .dataframe thead th {\n",
              "        text-align: right;\n",
              "    }\n",
              "</style>\n",
              "<table border=\"1\" class=\"dataframe\">\n",
              "  <thead>\n",
              "    <tr style=\"text-align: right;\">\n",
              "      <th></th>\n",
              "      <th>Age</th>\n",
              "      <th>Workclass</th>\n",
              "      <th>Fnlwgt</th>\n",
              "      <th>Education</th>\n",
              "      <th>Education_num</th>\n",
              "      <th>Marital_status</th>\n",
              "      <th>Occupation</th>\n",
              "      <th>Relationship</th>\n",
              "      <th>Race</th>\n",
              "      <th>Sex</th>\n",
              "      <th>Capital_gain</th>\n",
              "      <th>Capital_loss</th>\n",
              "      <th>Hours_per_week</th>\n",
              "      <th>Native_country</th>\n",
              "      <th>Income</th>\n",
              "    </tr>\n",
              "  </thead>\n",
              "  <tbody>\n",
              "    <tr>\n",
              "      <th>0</th>\n",
              "      <td>50</td>\n",
              "      <td>Self-emp-not-inc</td>\n",
              "      <td>83311</td>\n",
              "      <td>Bachelors</td>\n",
              "      <td>13</td>\n",
              "      <td>Married-civ-spouse</td>\n",
              "      <td>Exec-managerial</td>\n",
              "      <td>Husband</td>\n",
              "      <td>White</td>\n",
              "      <td>Male</td>\n",
              "      <td>0</td>\n",
              "      <td>0</td>\n",
              "      <td>13</td>\n",
              "      <td>United-States</td>\n",
              "      <td>&lt;=50K</td>\n",
              "    </tr>\n",
              "    <tr>\n",
              "      <th>1</th>\n",
              "      <td>38</td>\n",
              "      <td>Private</td>\n",
              "      <td>215646</td>\n",
              "      <td>HS-grad</td>\n",
              "      <td>9</td>\n",
              "      <td>Divorced</td>\n",
              "      <td>Handlers-cleaners</td>\n",
              "      <td>Not-in-family</td>\n",
              "      <td>White</td>\n",
              "      <td>Male</td>\n",
              "      <td>0</td>\n",
              "      <td>0</td>\n",
              "      <td>40</td>\n",
              "      <td>United-States</td>\n",
              "      <td>&lt;=50K</td>\n",
              "    </tr>\n",
              "    <tr>\n",
              "      <th>2</th>\n",
              "      <td>53</td>\n",
              "      <td>Private</td>\n",
              "      <td>234721</td>\n",
              "      <td>11th</td>\n",
              "      <td>7</td>\n",
              "      <td>Married-civ-spouse</td>\n",
              "      <td>Handlers-cleaners</td>\n",
              "      <td>Husband</td>\n",
              "      <td>Black</td>\n",
              "      <td>Male</td>\n",
              "      <td>0</td>\n",
              "      <td>0</td>\n",
              "      <td>40</td>\n",
              "      <td>United-States</td>\n",
              "      <td>&lt;=50K</td>\n",
              "    </tr>\n",
              "    <tr>\n",
              "      <th>3</th>\n",
              "      <td>28</td>\n",
              "      <td>Private</td>\n",
              "      <td>338409</td>\n",
              "      <td>Bachelors</td>\n",
              "      <td>13</td>\n",
              "      <td>Married-civ-spouse</td>\n",
              "      <td>Prof-specialty</td>\n",
              "      <td>Wife</td>\n",
              "      <td>Black</td>\n",
              "      <td>Female</td>\n",
              "      <td>0</td>\n",
              "      <td>0</td>\n",
              "      <td>40</td>\n",
              "      <td>Cuba</td>\n",
              "      <td>&lt;=50K</td>\n",
              "    </tr>\n",
              "    <tr>\n",
              "      <th>4</th>\n",
              "      <td>37</td>\n",
              "      <td>Private</td>\n",
              "      <td>284582</td>\n",
              "      <td>Masters</td>\n",
              "      <td>14</td>\n",
              "      <td>Married-civ-spouse</td>\n",
              "      <td>Exec-managerial</td>\n",
              "      <td>Wife</td>\n",
              "      <td>White</td>\n",
              "      <td>Female</td>\n",
              "      <td>0</td>\n",
              "      <td>0</td>\n",
              "      <td>40</td>\n",
              "      <td>United-States</td>\n",
              "      <td>&lt;=50K</td>\n",
              "    </tr>\n",
              "    <tr>\n",
              "      <th>5</th>\n",
              "      <td>49</td>\n",
              "      <td>Private</td>\n",
              "      <td>160187</td>\n",
              "      <td>9th</td>\n",
              "      <td>5</td>\n",
              "      <td>Married-spouse-absent</td>\n",
              "      <td>Other-service</td>\n",
              "      <td>Not-in-family</td>\n",
              "      <td>Black</td>\n",
              "      <td>Female</td>\n",
              "      <td>0</td>\n",
              "      <td>0</td>\n",
              "      <td>16</td>\n",
              "      <td>Jamaica</td>\n",
              "      <td>&lt;=50K</td>\n",
              "    </tr>\n",
              "    <tr>\n",
              "      <th>6</th>\n",
              "      <td>52</td>\n",
              "      <td>Self-emp-not-inc</td>\n",
              "      <td>209642</td>\n",
              "      <td>HS-grad</td>\n",
              "      <td>9</td>\n",
              "      <td>Married-civ-spouse</td>\n",
              "      <td>Exec-managerial</td>\n",
              "      <td>Husband</td>\n",
              "      <td>White</td>\n",
              "      <td>Male</td>\n",
              "      <td>0</td>\n",
              "      <td>0</td>\n",
              "      <td>45</td>\n",
              "      <td>United-States</td>\n",
              "      <td>&gt;50K</td>\n",
              "    </tr>\n",
              "    <tr>\n",
              "      <th>7</th>\n",
              "      <td>31</td>\n",
              "      <td>Private</td>\n",
              "      <td>45781</td>\n",
              "      <td>Masters</td>\n",
              "      <td>14</td>\n",
              "      <td>Never-married</td>\n",
              "      <td>Prof-specialty</td>\n",
              "      <td>Not-in-family</td>\n",
              "      <td>White</td>\n",
              "      <td>Female</td>\n",
              "      <td>14084</td>\n",
              "      <td>0</td>\n",
              "      <td>50</td>\n",
              "      <td>United-States</td>\n",
              "      <td>&gt;50K</td>\n",
              "    </tr>\n",
              "    <tr>\n",
              "      <th>8</th>\n",
              "      <td>42</td>\n",
              "      <td>Private</td>\n",
              "      <td>159449</td>\n",
              "      <td>Bachelors</td>\n",
              "      <td>13</td>\n",
              "      <td>Married-civ-spouse</td>\n",
              "      <td>Exec-managerial</td>\n",
              "      <td>Husband</td>\n",
              "      <td>White</td>\n",
              "      <td>Male</td>\n",
              "      <td>5178</td>\n",
              "      <td>0</td>\n",
              "      <td>40</td>\n",
              "      <td>United-States</td>\n",
              "      <td>&gt;50K</td>\n",
              "    </tr>\n",
              "    <tr>\n",
              "      <th>9</th>\n",
              "      <td>37</td>\n",
              "      <td>Private</td>\n",
              "      <td>280464</td>\n",
              "      <td>Some-college</td>\n",
              "      <td>10</td>\n",
              "      <td>Married-civ-spouse</td>\n",
              "      <td>Exec-managerial</td>\n",
              "      <td>Husband</td>\n",
              "      <td>Black</td>\n",
              "      <td>Male</td>\n",
              "      <td>0</td>\n",
              "      <td>0</td>\n",
              "      <td>80</td>\n",
              "      <td>United-States</td>\n",
              "      <td>&gt;50K</td>\n",
              "    </tr>\n",
              "  </tbody>\n",
              "</table>\n",
              "</div>\n",
              "      <button class=\"colab-df-convert\" onclick=\"convertToInteractive('df-68d8387e-bcee-4950-8a74-f3ddae0595b5')\"\n",
              "              title=\"Convert this dataframe to an interactive table.\"\n",
              "              style=\"display:none;\">\n",
              "        \n",
              "  <svg xmlns=\"http://www.w3.org/2000/svg\" height=\"24px\"viewBox=\"0 0 24 24\"\n",
              "       width=\"24px\">\n",
              "    <path d=\"M0 0h24v24H0V0z\" fill=\"none\"/>\n",
              "    <path d=\"M18.56 5.44l.94 2.06.94-2.06 2.06-.94-2.06-.94-.94-2.06-.94 2.06-2.06.94zm-11 1L8.5 8.5l.94-2.06 2.06-.94-2.06-.94L8.5 2.5l-.94 2.06-2.06.94zm10 10l.94 2.06.94-2.06 2.06-.94-2.06-.94-.94-2.06-.94 2.06-2.06.94z\"/><path d=\"M17.41 7.96l-1.37-1.37c-.4-.4-.92-.59-1.43-.59-.52 0-1.04.2-1.43.59L10.3 9.45l-7.72 7.72c-.78.78-.78 2.05 0 2.83L4 21.41c.39.39.9.59 1.41.59.51 0 1.02-.2 1.41-.59l7.78-7.78 2.81-2.81c.8-.78.8-2.07 0-2.86zM5.41 20L4 18.59l7.72-7.72 1.47 1.35L5.41 20z\"/>\n",
              "  </svg>\n",
              "      </button>\n",
              "      \n",
              "  <style>\n",
              "    .colab-df-container {\n",
              "      display:flex;\n",
              "      flex-wrap:wrap;\n",
              "      gap: 12px;\n",
              "    }\n",
              "\n",
              "    .colab-df-convert {\n",
              "      background-color: #E8F0FE;\n",
              "      border: none;\n",
              "      border-radius: 50%;\n",
              "      cursor: pointer;\n",
              "      display: none;\n",
              "      fill: #1967D2;\n",
              "      height: 32px;\n",
              "      padding: 0 0 0 0;\n",
              "      width: 32px;\n",
              "    }\n",
              "\n",
              "    .colab-df-convert:hover {\n",
              "      background-color: #E2EBFA;\n",
              "      box-shadow: 0px 1px 2px rgba(60, 64, 67, 0.3), 0px 1px 3px 1px rgba(60, 64, 67, 0.15);\n",
              "      fill: #174EA6;\n",
              "    }\n",
              "\n",
              "    [theme=dark] .colab-df-convert {\n",
              "      background-color: #3B4455;\n",
              "      fill: #D2E3FC;\n",
              "    }\n",
              "\n",
              "    [theme=dark] .colab-df-convert:hover {\n",
              "      background-color: #434B5C;\n",
              "      box-shadow: 0px 1px 3px 1px rgba(0, 0, 0, 0.15);\n",
              "      filter: drop-shadow(0px 1px 2px rgba(0, 0, 0, 0.3));\n",
              "      fill: #FFFFFF;\n",
              "    }\n",
              "  </style>\n",
              "\n",
              "      <script>\n",
              "        const buttonEl =\n",
              "          document.querySelector('#df-68d8387e-bcee-4950-8a74-f3ddae0595b5 button.colab-df-convert');\n",
              "        buttonEl.style.display =\n",
              "          google.colab.kernel.accessAllowed ? 'block' : 'none';\n",
              "\n",
              "        async function convertToInteractive(key) {\n",
              "          const element = document.querySelector('#df-68d8387e-bcee-4950-8a74-f3ddae0595b5');\n",
              "          const dataTable =\n",
              "            await google.colab.kernel.invokeFunction('convertToInteractive',\n",
              "                                                     [key], {});\n",
              "          if (!dataTable) return;\n",
              "\n",
              "          const docLinkHtml = 'Like what you see? Visit the ' +\n",
              "            '<a target=\"_blank\" href=https://colab.research.google.com/notebooks/data_table.ipynb>data table notebook</a>'\n",
              "            + ' to learn more about interactive tables.';\n",
              "          element.innerHTML = '';\n",
              "          dataTable['output_type'] = 'display_data';\n",
              "          await google.colab.output.renderOutput(dataTable, element);\n",
              "          const docLink = document.createElement('div');\n",
              "          docLink.innerHTML = docLinkHtml;\n",
              "          element.appendChild(docLink);\n",
              "        }\n",
              "      </script>\n",
              "    </div>\n",
              "  </div>\n",
              "  "
            ]
          },
          "metadata": {},
          "execution_count": 145
        }
      ],
      "source": [
        "df_census.head(10)"
      ]
    },
    {
      "cell_type": "code",
      "execution_count": null,
      "id": "26461b25",
      "metadata": {
        "id": "26461b25",
        "colab": {
          "base_uri": "https://localhost:8080/"
        },
        "outputId": "14046dff-9334-4e98-ce76-f61aff7036c7"
      },
      "outputs": [
        {
          "output_type": "stream",
          "name": "stdout",
          "text": [
            "<class 'pandas.core.frame.DataFrame'>\n",
            "RangeIndex: 32560 entries, 0 to 32559\n",
            "Data columns (total 15 columns):\n",
            " #   Column          Non-Null Count  Dtype \n",
            "---  ------          --------------  ----- \n",
            " 0   Age             32560 non-null  int64 \n",
            " 1   Workclass       32560 non-null  object\n",
            " 2   Fnlwgt          32560 non-null  int64 \n",
            " 3   Education       32560 non-null  object\n",
            " 4   Education_num   32560 non-null  int64 \n",
            " 5   Marital_status  32560 non-null  object\n",
            " 6   Occupation      32560 non-null  object\n",
            " 7   Relationship    32560 non-null  object\n",
            " 8   Race            32560 non-null  object\n",
            " 9   Sex             32560 non-null  object\n",
            " 10  Capital_gain    32560 non-null  int64 \n",
            " 11  Capital_loss    32560 non-null  int64 \n",
            " 12  Hours_per_week  32560 non-null  int64 \n",
            " 13  Native_country  32560 non-null  object\n",
            " 14  Income          32560 non-null  object\n",
            "dtypes: int64(6), object(9)\n",
            "memory usage: 3.7+ MB\n"
          ]
        }
      ],
      "source": [
        "df_census.info()"
      ]
    },
    {
      "cell_type": "code",
      "execution_count": null,
      "id": "52f0a715",
      "metadata": {
        "id": "52f0a715",
        "colab": {
          "base_uri": "https://localhost:8080/",
          "height": 364
        },
        "outputId": "e1385fde-8d73-4d57-9f81-b8c414501bd0"
      },
      "outputs": [
        {
          "output_type": "execute_result",
          "data": {
            "text/plain": [
              "                Age        Fnlwgt  Education_num  Capital_gain  Capital_loss  \\\n",
              "count  32560.000000  3.256000e+04   32560.000000  32560.000000  32560.000000   \n",
              "mean      38.581634  1.897818e+05      10.080590   1077.615172     87.306511   \n",
              "std       13.640642  1.055498e+05       2.572709   7385.402999    402.966116   \n",
              "min       17.000000  1.228500e+04       1.000000      0.000000      0.000000   \n",
              "25%       28.000000  1.178315e+05       9.000000      0.000000      0.000000   \n",
              "50%       37.000000  1.783630e+05      10.000000      0.000000      0.000000   \n",
              "75%       48.000000  2.370545e+05      12.000000      0.000000      0.000000   \n",
              "max       90.000000  1.484705e+06      16.000000  99999.000000   4356.000000   \n",
              "\n",
              "       Hours_per_week  \n",
              "count    32560.000000  \n",
              "mean        40.437469  \n",
              "std         12.347618  \n",
              "min          1.000000  \n",
              "25%         40.000000  \n",
              "50%         40.000000  \n",
              "75%         45.000000  \n",
              "max         99.000000  "
            ],
            "text/html": [
              "\n",
              "  <div id=\"df-b9b800f7-d88e-4b96-a87d-eb8ec9bbb7b0\">\n",
              "    <div class=\"colab-df-container\">\n",
              "      <div>\n",
              "<style scoped>\n",
              "    .dataframe tbody tr th:only-of-type {\n",
              "        vertical-align: middle;\n",
              "    }\n",
              "\n",
              "    .dataframe tbody tr th {\n",
              "        vertical-align: top;\n",
              "    }\n",
              "\n",
              "    .dataframe thead th {\n",
              "        text-align: right;\n",
              "    }\n",
              "</style>\n",
              "<table border=\"1\" class=\"dataframe\">\n",
              "  <thead>\n",
              "    <tr style=\"text-align: right;\">\n",
              "      <th></th>\n",
              "      <th>Age</th>\n",
              "      <th>Fnlwgt</th>\n",
              "      <th>Education_num</th>\n",
              "      <th>Capital_gain</th>\n",
              "      <th>Capital_loss</th>\n",
              "      <th>Hours_per_week</th>\n",
              "    </tr>\n",
              "  </thead>\n",
              "  <tbody>\n",
              "    <tr>\n",
              "      <th>count</th>\n",
              "      <td>32560.000000</td>\n",
              "      <td>3.256000e+04</td>\n",
              "      <td>32560.000000</td>\n",
              "      <td>32560.000000</td>\n",
              "      <td>32560.000000</td>\n",
              "      <td>32560.000000</td>\n",
              "    </tr>\n",
              "    <tr>\n",
              "      <th>mean</th>\n",
              "      <td>38.581634</td>\n",
              "      <td>1.897818e+05</td>\n",
              "      <td>10.080590</td>\n",
              "      <td>1077.615172</td>\n",
              "      <td>87.306511</td>\n",
              "      <td>40.437469</td>\n",
              "    </tr>\n",
              "    <tr>\n",
              "      <th>std</th>\n",
              "      <td>13.640642</td>\n",
              "      <td>1.055498e+05</td>\n",
              "      <td>2.572709</td>\n",
              "      <td>7385.402999</td>\n",
              "      <td>402.966116</td>\n",
              "      <td>12.347618</td>\n",
              "    </tr>\n",
              "    <tr>\n",
              "      <th>min</th>\n",
              "      <td>17.000000</td>\n",
              "      <td>1.228500e+04</td>\n",
              "      <td>1.000000</td>\n",
              "      <td>0.000000</td>\n",
              "      <td>0.000000</td>\n",
              "      <td>1.000000</td>\n",
              "    </tr>\n",
              "    <tr>\n",
              "      <th>25%</th>\n",
              "      <td>28.000000</td>\n",
              "      <td>1.178315e+05</td>\n",
              "      <td>9.000000</td>\n",
              "      <td>0.000000</td>\n",
              "      <td>0.000000</td>\n",
              "      <td>40.000000</td>\n",
              "    </tr>\n",
              "    <tr>\n",
              "      <th>50%</th>\n",
              "      <td>37.000000</td>\n",
              "      <td>1.783630e+05</td>\n",
              "      <td>10.000000</td>\n",
              "      <td>0.000000</td>\n",
              "      <td>0.000000</td>\n",
              "      <td>40.000000</td>\n",
              "    </tr>\n",
              "    <tr>\n",
              "      <th>75%</th>\n",
              "      <td>48.000000</td>\n",
              "      <td>2.370545e+05</td>\n",
              "      <td>12.000000</td>\n",
              "      <td>0.000000</td>\n",
              "      <td>0.000000</td>\n",
              "      <td>45.000000</td>\n",
              "    </tr>\n",
              "    <tr>\n",
              "      <th>max</th>\n",
              "      <td>90.000000</td>\n",
              "      <td>1.484705e+06</td>\n",
              "      <td>16.000000</td>\n",
              "      <td>99999.000000</td>\n",
              "      <td>4356.000000</td>\n",
              "      <td>99.000000</td>\n",
              "    </tr>\n",
              "  </tbody>\n",
              "</table>\n",
              "</div>\n",
              "      <button class=\"colab-df-convert\" onclick=\"convertToInteractive('df-b9b800f7-d88e-4b96-a87d-eb8ec9bbb7b0')\"\n",
              "              title=\"Convert this dataframe to an interactive table.\"\n",
              "              style=\"display:none;\">\n",
              "        \n",
              "  <svg xmlns=\"http://www.w3.org/2000/svg\" height=\"24px\"viewBox=\"0 0 24 24\"\n",
              "       width=\"24px\">\n",
              "    <path d=\"M0 0h24v24H0V0z\" fill=\"none\"/>\n",
              "    <path d=\"M18.56 5.44l.94 2.06.94-2.06 2.06-.94-2.06-.94-.94-2.06-.94 2.06-2.06.94zm-11 1L8.5 8.5l.94-2.06 2.06-.94-2.06-.94L8.5 2.5l-.94 2.06-2.06.94zm10 10l.94 2.06.94-2.06 2.06-.94-2.06-.94-.94-2.06-.94 2.06-2.06.94z\"/><path d=\"M17.41 7.96l-1.37-1.37c-.4-.4-.92-.59-1.43-.59-.52 0-1.04.2-1.43.59L10.3 9.45l-7.72 7.72c-.78.78-.78 2.05 0 2.83L4 21.41c.39.39.9.59 1.41.59.51 0 1.02-.2 1.41-.59l7.78-7.78 2.81-2.81c.8-.78.8-2.07 0-2.86zM5.41 20L4 18.59l7.72-7.72 1.47 1.35L5.41 20z\"/>\n",
              "  </svg>\n",
              "      </button>\n",
              "      \n",
              "  <style>\n",
              "    .colab-df-container {\n",
              "      display:flex;\n",
              "      flex-wrap:wrap;\n",
              "      gap: 12px;\n",
              "    }\n",
              "\n",
              "    .colab-df-convert {\n",
              "      background-color: #E8F0FE;\n",
              "      border: none;\n",
              "      border-radius: 50%;\n",
              "      cursor: pointer;\n",
              "      display: none;\n",
              "      fill: #1967D2;\n",
              "      height: 32px;\n",
              "      padding: 0 0 0 0;\n",
              "      width: 32px;\n",
              "    }\n",
              "\n",
              "    .colab-df-convert:hover {\n",
              "      background-color: #E2EBFA;\n",
              "      box-shadow: 0px 1px 2px rgba(60, 64, 67, 0.3), 0px 1px 3px 1px rgba(60, 64, 67, 0.15);\n",
              "      fill: #174EA6;\n",
              "    }\n",
              "\n",
              "    [theme=dark] .colab-df-convert {\n",
              "      background-color: #3B4455;\n",
              "      fill: #D2E3FC;\n",
              "    }\n",
              "\n",
              "    [theme=dark] .colab-df-convert:hover {\n",
              "      background-color: #434B5C;\n",
              "      box-shadow: 0px 1px 3px 1px rgba(0, 0, 0, 0.15);\n",
              "      filter: drop-shadow(0px 1px 2px rgba(0, 0, 0, 0.3));\n",
              "      fill: #FFFFFF;\n",
              "    }\n",
              "  </style>\n",
              "\n",
              "      <script>\n",
              "        const buttonEl =\n",
              "          document.querySelector('#df-b9b800f7-d88e-4b96-a87d-eb8ec9bbb7b0 button.colab-df-convert');\n",
              "        buttonEl.style.display =\n",
              "          google.colab.kernel.accessAllowed ? 'block' : 'none';\n",
              "\n",
              "        async function convertToInteractive(key) {\n",
              "          const element = document.querySelector('#df-b9b800f7-d88e-4b96-a87d-eb8ec9bbb7b0');\n",
              "          const dataTable =\n",
              "            await google.colab.kernel.invokeFunction('convertToInteractive',\n",
              "                                                     [key], {});\n",
              "          if (!dataTable) return;\n",
              "\n",
              "          const docLinkHtml = 'Like what you see? Visit the ' +\n",
              "            '<a target=\"_blank\" href=https://colab.research.google.com/notebooks/data_table.ipynb>data table notebook</a>'\n",
              "            + ' to learn more about interactive tables.';\n",
              "          element.innerHTML = '';\n",
              "          dataTable['output_type'] = 'display_data';\n",
              "          await google.colab.output.renderOutput(dataTable, element);\n",
              "          const docLink = document.createElement('div');\n",
              "          docLink.innerHTML = docLinkHtml;\n",
              "          element.appendChild(docLink);\n",
              "        }\n",
              "      </script>\n",
              "    </div>\n",
              "  </div>\n",
              "  "
            ]
          },
          "metadata": {},
          "execution_count": 147
        }
      ],
      "source": [
        "df_census.describe()"
      ]
    },
    {
      "cell_type": "code",
      "execution_count": null,
      "id": "5dbdad46",
      "metadata": {
        "id": "5dbdad46",
        "colab": {
          "base_uri": "https://localhost:8080/"
        },
        "outputId": "169c0c77-0232-4228-e32a-feb16892cea9"
      },
      "outputs": [
        {
          "output_type": "execute_result",
          "data": {
            "text/plain": [
              "Age               0\n",
              "Workclass         0\n",
              "Fnlwgt            0\n",
              "Education         0\n",
              "Education_num     0\n",
              "Marital_status    0\n",
              "Occupation        0\n",
              "Relationship      0\n",
              "Race              0\n",
              "Sex               0\n",
              "Capital_gain      0\n",
              "Capital_loss      0\n",
              "Hours_per_week    0\n",
              "Native_country    0\n",
              "Income            0\n",
              "dtype: int64"
            ]
          },
          "metadata": {},
          "execution_count": 148
        }
      ],
      "source": [
        "df_census.isnull().sum()"
      ]
    },
    {
      "cell_type": "code",
      "execution_count": null,
      "id": "93c09a5c",
      "metadata": {
        "id": "93c09a5c",
        "colab": {
          "base_uri": "https://localhost:8080/"
        },
        "outputId": "6464bc63-30eb-4742-dc03-a774c87ca1e4"
      },
      "outputs": [
        {
          "output_type": "execute_result",
          "data": {
            "text/plain": [
              "Index(['Age', 'Workclass', 'Fnlwgt', 'Education', 'Education_num',\n",
              "       'Marital_status', 'Occupation', 'Relationship', 'Race', 'Sex',\n",
              "       'Capital_gain', 'Capital_loss', 'Hours_per_week', 'Native_country',\n",
              "       'Income'],\n",
              "      dtype='object')"
            ]
          },
          "metadata": {},
          "execution_count": 149
        }
      ],
      "source": [
        "df_census.columns"
      ]
    },
    {
      "cell_type": "code",
      "execution_count": null,
      "id": "2820fa7a",
      "metadata": {
        "id": "2820fa7a"
      },
      "outputs": [],
      "source": [
        "# As . was creating issues with the function\n",
        "df_census.rename(columns={\"Native_country\": \"native_country\"}, inplace=True)\n",
        "df_census.rename(columns={\"Education_num\": \"education_num\"}, inplace=True)\n",
        "df_census.rename(columns={\"Marital_status\": \"marital_status\"}, inplace=True)\n",
        "df_census.rename(columns={\"Capital_gain\": \"capital_gain\"}, inplace=True)\n",
        "df_census.rename(columns={\"Capital_loss\": \"capital_loss\"}, inplace=True)\n",
        "df_census.rename(columns={\"Hours_per_week\": \"hours_week\"}, inplace=True)"
      ]
    },
    {
      "cell_type": "code",
      "execution_count": null,
      "id": "bd0c30ff",
      "metadata": {
        "id": "bd0c30ff",
        "colab": {
          "base_uri": "https://localhost:8080/"
        },
        "outputId": "6809820e-b6c8-40ee-bd12-9b559a17b8d0"
      },
      "outputs": [
        {
          "output_type": "execute_result",
          "data": {
            "text/plain": [
              "array([' United-States', ' Cuba', ' Jamaica', ' India', ' ?', ' Mexico',\n",
              "       ' South', ' Puerto-Rico', ' Honduras', ' England', ' Canada',\n",
              "       ' Germany', ' Iran', ' Philippines', ' Italy', ' Poland',\n",
              "       ' Columbia', ' Cambodia', ' Thailand', ' Ecuador', ' Laos',\n",
              "       ' Taiwan', ' Haiti', ' Portugal', ' Dominican-Republic',\n",
              "       ' El-Salvador', ' France', ' Guatemala', ' China', ' Japan',\n",
              "       ' Yugoslavia', ' Peru', ' Outlying-US(Guam-USVI-etc)', ' Scotland',\n",
              "       ' Trinadad&Tobago', ' Greece', ' Nicaragua', ' Vietnam', ' Hong',\n",
              "       ' Ireland', ' Hungary', ' Holand-Netherlands'], dtype=object)"
            ]
          },
          "metadata": {},
          "execution_count": 151
        }
      ],
      "source": [
        "df_census['native_country'].unique()"
      ]
    },
    {
      "cell_type": "code",
      "execution_count": null,
      "id": "312fb01a",
      "metadata": {
        "id": "312fb01a",
        "colab": {
          "base_uri": "https://localhost:8080/"
        },
        "outputId": "dac4a1ce-a36e-45e2-f159-73f79da0dcc9"
      },
      "outputs": [
        {
          "output_type": "execute_result",
          "data": {
            "text/plain": [
              "array([' Self-emp-not-inc', ' Private', ' State-gov', ' Federal-gov',\n",
              "       ' Local-gov', ' ?', ' Self-emp-inc', ' Without-pay',\n",
              "       ' Never-worked'], dtype=object)"
            ]
          },
          "metadata": {},
          "execution_count": 152
        }
      ],
      "source": [
        "df_census['Workclass'].unique()"
      ]
    },
    {
      "cell_type": "code",
      "execution_count": null,
      "id": "c1b89eda",
      "metadata": {
        "id": "c1b89eda",
        "colab": {
          "base_uri": "https://localhost:8080/",
          "height": 113
        },
        "outputId": "f492ab0a-c993-4f9f-bfc4-ae50ddb833c3"
      },
      "outputs": [
        {
          "output_type": "execute_result",
          "data": {
            "text/plain": [
              "Empty DataFrame\n",
              "Columns: [Age, Workclass, Fnlwgt, Education, education_num, marital_status, Occupation, Relationship, Race, Sex, capital_gain, capital_loss, hours_week, native_country, Income]\n",
              "Index: []"
            ],
            "text/html": [
              "\n",
              "  <div id=\"df-256c914b-a55a-413e-bb7d-3b0ab4f5e3a4\">\n",
              "    <div class=\"colab-df-container\">\n",
              "      <div>\n",
              "<style scoped>\n",
              "    .dataframe tbody tr th:only-of-type {\n",
              "        vertical-align: middle;\n",
              "    }\n",
              "\n",
              "    .dataframe tbody tr th {\n",
              "        vertical-align: top;\n",
              "    }\n",
              "\n",
              "    .dataframe thead th {\n",
              "        text-align: right;\n",
              "    }\n",
              "</style>\n",
              "<table border=\"1\" class=\"dataframe\">\n",
              "  <thead>\n",
              "    <tr style=\"text-align: right;\">\n",
              "      <th></th>\n",
              "      <th>Age</th>\n",
              "      <th>Workclass</th>\n",
              "      <th>Fnlwgt</th>\n",
              "      <th>Education</th>\n",
              "      <th>education_num</th>\n",
              "      <th>marital_status</th>\n",
              "      <th>Occupation</th>\n",
              "      <th>Relationship</th>\n",
              "      <th>Race</th>\n",
              "      <th>Sex</th>\n",
              "      <th>capital_gain</th>\n",
              "      <th>capital_loss</th>\n",
              "      <th>hours_week</th>\n",
              "      <th>native_country</th>\n",
              "      <th>Income</th>\n",
              "    </tr>\n",
              "  </thead>\n",
              "  <tbody>\n",
              "  </tbody>\n",
              "</table>\n",
              "</div>\n",
              "      <button class=\"colab-df-convert\" onclick=\"convertToInteractive('df-256c914b-a55a-413e-bb7d-3b0ab4f5e3a4')\"\n",
              "              title=\"Convert this dataframe to an interactive table.\"\n",
              "              style=\"display:none;\">\n",
              "        \n",
              "  <svg xmlns=\"http://www.w3.org/2000/svg\" height=\"24px\"viewBox=\"0 0 24 24\"\n",
              "       width=\"24px\">\n",
              "    <path d=\"M0 0h24v24H0V0z\" fill=\"none\"/>\n",
              "    <path d=\"M18.56 5.44l.94 2.06.94-2.06 2.06-.94-2.06-.94-.94-2.06-.94 2.06-2.06.94zm-11 1L8.5 8.5l.94-2.06 2.06-.94-2.06-.94L8.5 2.5l-.94 2.06-2.06.94zm10 10l.94 2.06.94-2.06 2.06-.94-2.06-.94-.94-2.06-.94 2.06-2.06.94z\"/><path d=\"M17.41 7.96l-1.37-1.37c-.4-.4-.92-.59-1.43-.59-.52 0-1.04.2-1.43.59L10.3 9.45l-7.72 7.72c-.78.78-.78 2.05 0 2.83L4 21.41c.39.39.9.59 1.41.59.51 0 1.02-.2 1.41-.59l7.78-7.78 2.81-2.81c.8-.78.8-2.07 0-2.86zM5.41 20L4 18.59l7.72-7.72 1.47 1.35L5.41 20z\"/>\n",
              "  </svg>\n",
              "      </button>\n",
              "      \n",
              "  <style>\n",
              "    .colab-df-container {\n",
              "      display:flex;\n",
              "      flex-wrap:wrap;\n",
              "      gap: 12px;\n",
              "    }\n",
              "\n",
              "    .colab-df-convert {\n",
              "      background-color: #E8F0FE;\n",
              "      border: none;\n",
              "      border-radius: 50%;\n",
              "      cursor: pointer;\n",
              "      display: none;\n",
              "      fill: #1967D2;\n",
              "      height: 32px;\n",
              "      padding: 0 0 0 0;\n",
              "      width: 32px;\n",
              "    }\n",
              "\n",
              "    .colab-df-convert:hover {\n",
              "      background-color: #E2EBFA;\n",
              "      box-shadow: 0px 1px 2px rgba(60, 64, 67, 0.3), 0px 1px 3px 1px rgba(60, 64, 67, 0.15);\n",
              "      fill: #174EA6;\n",
              "    }\n",
              "\n",
              "    [theme=dark] .colab-df-convert {\n",
              "      background-color: #3B4455;\n",
              "      fill: #D2E3FC;\n",
              "    }\n",
              "\n",
              "    [theme=dark] .colab-df-convert:hover {\n",
              "      background-color: #434B5C;\n",
              "      box-shadow: 0px 1px 3px 1px rgba(0, 0, 0, 0.15);\n",
              "      filter: drop-shadow(0px 1px 2px rgba(0, 0, 0, 0.3));\n",
              "      fill: #FFFFFF;\n",
              "    }\n",
              "  </style>\n",
              "\n",
              "      <script>\n",
              "        const buttonEl =\n",
              "          document.querySelector('#df-256c914b-a55a-413e-bb7d-3b0ab4f5e3a4 button.colab-df-convert');\n",
              "        buttonEl.style.display =\n",
              "          google.colab.kernel.accessAllowed ? 'block' : 'none';\n",
              "\n",
              "        async function convertToInteractive(key) {\n",
              "          const element = document.querySelector('#df-256c914b-a55a-413e-bb7d-3b0ab4f5e3a4');\n",
              "          const dataTable =\n",
              "            await google.colab.kernel.invokeFunction('convertToInteractive',\n",
              "                                                     [key], {});\n",
              "          if (!dataTable) return;\n",
              "\n",
              "          const docLinkHtml = 'Like what you see? Visit the ' +\n",
              "            '<a target=\"_blank\" href=https://colab.research.google.com/notebooks/data_table.ipynb>data table notebook</a>'\n",
              "            + ' to learn more about interactive tables.';\n",
              "          element.innerHTML = '';\n",
              "          dataTable['output_type'] = 'display_data';\n",
              "          await google.colab.output.renderOutput(dataTable, element);\n",
              "          const docLink = document.createElement('div');\n",
              "          docLink.innerHTML = docLinkHtml;\n",
              "          element.appendChild(docLink);\n",
              "        }\n",
              "      </script>\n",
              "    </div>\n",
              "  </div>\n",
              "  "
            ]
          },
          "metadata": {},
          "execution_count": 153
        }
      ],
      "source": [
        "df_census.loc[df_census.Workclass == '?']"
      ]
    },
    {
      "cell_type": "code",
      "execution_count": null,
      "id": "7a6c9382",
      "metadata": {
        "id": "7a6c9382",
        "colab": {
          "base_uri": "https://localhost:8080/",
          "height": 113
        },
        "outputId": "71cc173a-8caa-4c11-8312-ae4d5d85d7b4"
      },
      "outputs": [
        {
          "output_type": "execute_result",
          "data": {
            "text/plain": [
              "Empty DataFrame\n",
              "Columns: [Age, Workclass, Fnlwgt, Education, education_num, marital_status, Occupation, Relationship, Race, Sex, capital_gain, capital_loss, hours_week, native_country, Income]\n",
              "Index: []"
            ],
            "text/html": [
              "\n",
              "  <div id=\"df-bb7411c6-9ebb-4d26-9956-753b5e19886c\">\n",
              "    <div class=\"colab-df-container\">\n",
              "      <div>\n",
              "<style scoped>\n",
              "    .dataframe tbody tr th:only-of-type {\n",
              "        vertical-align: middle;\n",
              "    }\n",
              "\n",
              "    .dataframe tbody tr th {\n",
              "        vertical-align: top;\n",
              "    }\n",
              "\n",
              "    .dataframe thead th {\n",
              "        text-align: right;\n",
              "    }\n",
              "</style>\n",
              "<table border=\"1\" class=\"dataframe\">\n",
              "  <thead>\n",
              "    <tr style=\"text-align: right;\">\n",
              "      <th></th>\n",
              "      <th>Age</th>\n",
              "      <th>Workclass</th>\n",
              "      <th>Fnlwgt</th>\n",
              "      <th>Education</th>\n",
              "      <th>education_num</th>\n",
              "      <th>marital_status</th>\n",
              "      <th>Occupation</th>\n",
              "      <th>Relationship</th>\n",
              "      <th>Race</th>\n",
              "      <th>Sex</th>\n",
              "      <th>capital_gain</th>\n",
              "      <th>capital_loss</th>\n",
              "      <th>hours_week</th>\n",
              "      <th>native_country</th>\n",
              "      <th>Income</th>\n",
              "    </tr>\n",
              "  </thead>\n",
              "  <tbody>\n",
              "  </tbody>\n",
              "</table>\n",
              "</div>\n",
              "      <button class=\"colab-df-convert\" onclick=\"convertToInteractive('df-bb7411c6-9ebb-4d26-9956-753b5e19886c')\"\n",
              "              title=\"Convert this dataframe to an interactive table.\"\n",
              "              style=\"display:none;\">\n",
              "        \n",
              "  <svg xmlns=\"http://www.w3.org/2000/svg\" height=\"24px\"viewBox=\"0 0 24 24\"\n",
              "       width=\"24px\">\n",
              "    <path d=\"M0 0h24v24H0V0z\" fill=\"none\"/>\n",
              "    <path d=\"M18.56 5.44l.94 2.06.94-2.06 2.06-.94-2.06-.94-.94-2.06-.94 2.06-2.06.94zm-11 1L8.5 8.5l.94-2.06 2.06-.94-2.06-.94L8.5 2.5l-.94 2.06-2.06.94zm10 10l.94 2.06.94-2.06 2.06-.94-2.06-.94-.94-2.06-.94 2.06-2.06.94z\"/><path d=\"M17.41 7.96l-1.37-1.37c-.4-.4-.92-.59-1.43-.59-.52 0-1.04.2-1.43.59L10.3 9.45l-7.72 7.72c-.78.78-.78 2.05 0 2.83L4 21.41c.39.39.9.59 1.41.59.51 0 1.02-.2 1.41-.59l7.78-7.78 2.81-2.81c.8-.78.8-2.07 0-2.86zM5.41 20L4 18.59l7.72-7.72 1.47 1.35L5.41 20z\"/>\n",
              "  </svg>\n",
              "      </button>\n",
              "      \n",
              "  <style>\n",
              "    .colab-df-container {\n",
              "      display:flex;\n",
              "      flex-wrap:wrap;\n",
              "      gap: 12px;\n",
              "    }\n",
              "\n",
              "    .colab-df-convert {\n",
              "      background-color: #E8F0FE;\n",
              "      border: none;\n",
              "      border-radius: 50%;\n",
              "      cursor: pointer;\n",
              "      display: none;\n",
              "      fill: #1967D2;\n",
              "      height: 32px;\n",
              "      padding: 0 0 0 0;\n",
              "      width: 32px;\n",
              "    }\n",
              "\n",
              "    .colab-df-convert:hover {\n",
              "      background-color: #E2EBFA;\n",
              "      box-shadow: 0px 1px 2px rgba(60, 64, 67, 0.3), 0px 1px 3px 1px rgba(60, 64, 67, 0.15);\n",
              "      fill: #174EA6;\n",
              "    }\n",
              "\n",
              "    [theme=dark] .colab-df-convert {\n",
              "      background-color: #3B4455;\n",
              "      fill: #D2E3FC;\n",
              "    }\n",
              "\n",
              "    [theme=dark] .colab-df-convert:hover {\n",
              "      background-color: #434B5C;\n",
              "      box-shadow: 0px 1px 3px 1px rgba(0, 0, 0, 0.15);\n",
              "      filter: drop-shadow(0px 1px 2px rgba(0, 0, 0, 0.3));\n",
              "      fill: #FFFFFF;\n",
              "    }\n",
              "  </style>\n",
              "\n",
              "      <script>\n",
              "        const buttonEl =\n",
              "          document.querySelector('#df-bb7411c6-9ebb-4d26-9956-753b5e19886c button.colab-df-convert');\n",
              "        buttonEl.style.display =\n",
              "          google.colab.kernel.accessAllowed ? 'block' : 'none';\n",
              "\n",
              "        async function convertToInteractive(key) {\n",
              "          const element = document.querySelector('#df-bb7411c6-9ebb-4d26-9956-753b5e19886c');\n",
              "          const dataTable =\n",
              "            await google.colab.kernel.invokeFunction('convertToInteractive',\n",
              "                                                     [key], {});\n",
              "          if (!dataTable) return;\n",
              "\n",
              "          const docLinkHtml = 'Like what you see? Visit the ' +\n",
              "            '<a target=\"_blank\" href=https://colab.research.google.com/notebooks/data_table.ipynb>data table notebook</a>'\n",
              "            + ' to learn more about interactive tables.';\n",
              "          element.innerHTML = '';\n",
              "          dataTable['output_type'] = 'display_data';\n",
              "          await google.colab.output.renderOutput(dataTable, element);\n",
              "          const docLink = document.createElement('div');\n",
              "          docLink.innerHTML = docLinkHtml;\n",
              "          element.appendChild(docLink);\n",
              "        }\n",
              "      </script>\n",
              "    </div>\n",
              "  </div>\n",
              "  "
            ]
          },
          "metadata": {},
          "execution_count": 154
        }
      ],
      "source": [
        "df_census.loc[df_census.native_country =='?']"
      ]
    },
    {
      "cell_type": "code",
      "execution_count": null,
      "id": "02127ce4",
      "metadata": {
        "id": "02127ce4",
        "colab": {
          "base_uri": "https://localhost:8080/"
        },
        "outputId": "3678fb7d-55f1-4380-e15e-cc9ac2213199"
      },
      "outputs": [
        {
          "output_type": "execute_result",
          "data": {
            "text/plain": [
              "array([' Exec-managerial', ' Handlers-cleaners', ' Prof-specialty',\n",
              "       ' Other-service', ' Adm-clerical', ' Sales', ' Craft-repair',\n",
              "       ' Transport-moving', ' Farming-fishing', ' Machine-op-inspct',\n",
              "       ' Tech-support', ' ?', ' Protective-serv', ' Armed-Forces',\n",
              "       ' Priv-house-serv'], dtype=object)"
            ]
          },
          "metadata": {},
          "execution_count": 155
        }
      ],
      "source": [
        "df_census['Occupation'].unique()"
      ]
    },
    {
      "cell_type": "code",
      "execution_count": null,
      "id": "003acad4",
      "metadata": {
        "id": "003acad4"
      },
      "outputs": [],
      "source": [
        "# We can use different impuation like mean imputation/ KNN imputer.\n",
        "# But data is large so lets exclude it we will eliminate its biasness to single variable\n",
        "df_census.drop(df_census[df_census['native_country'] == '?'].index, inplace = True)\n",
        "df_census.drop(df_census[df_census['Occupation'] == '?'].index, inplace = True)\n",
        "df_census.drop(df_census[df_census['Workclass'] == '?'].index, inplace = True)"
      ]
    },
    {
      "cell_type": "code",
      "execution_count": null,
      "id": "4bba1258",
      "metadata": {
        "id": "4bba1258",
        "colab": {
          "base_uri": "https://localhost:8080/"
        },
        "outputId": "7f881390-0c91-4ec0-9ca3-d9c46ec43e17"
      },
      "outputs": [
        {
          "output_type": "execute_result",
          "data": {
            "text/plain": [
              "array([' United-States', ' Cuba', ' Jamaica', ' India', ' ?', ' Mexico',\n",
              "       ' South', ' Puerto-Rico', ' Honduras', ' England', ' Canada',\n",
              "       ' Germany', ' Iran', ' Philippines', ' Italy', ' Poland',\n",
              "       ' Columbia', ' Cambodia', ' Thailand', ' Ecuador', ' Laos',\n",
              "       ' Taiwan', ' Haiti', ' Portugal', ' Dominican-Republic',\n",
              "       ' El-Salvador', ' France', ' Guatemala', ' China', ' Japan',\n",
              "       ' Yugoslavia', ' Peru', ' Outlying-US(Guam-USVI-etc)', ' Scotland',\n",
              "       ' Trinadad&Tobago', ' Greece', ' Nicaragua', ' Vietnam', ' Hong',\n",
              "       ' Ireland', ' Hungary', ' Holand-Netherlands'], dtype=object)"
            ]
          },
          "metadata": {},
          "execution_count": 157
        }
      ],
      "source": [
        "#checking if it worked\n",
        "df_census['native_country'].unique()"
      ]
    },
    {
      "cell_type": "code",
      "execution_count": null,
      "id": "dcdf26cc",
      "metadata": {
        "id": "dcdf26cc",
        "colab": {
          "base_uri": "https://localhost:8080/",
          "height": 488
        },
        "outputId": "0e5a480d-1d9f-4070-9216-4ad0e96d62f9"
      },
      "outputs": [
        {
          "output_type": "execute_result",
          "data": {
            "text/plain": [
              "<Axes: >"
            ]
          },
          "metadata": {},
          "execution_count": 158
        },
        {
          "output_type": "display_data",
          "data": {
            "text/plain": [
              "<Figure size 640x480 with 1 Axes>"
            ],
            "image/png": "[encoded data removed]"
          },
          "metadata": {}
        }
      ],
      "source": [
        "df_census['Income'].value_counts().plot(kind='bar')"
      ]
    },
    {
      "cell_type": "code",
      "execution_count": null,
      "id": "27e756ca",
      "metadata": {
        "id": "27e756ca",
        "colab": {
          "base_uri": "https://localhost:8080/",
          "height": 788
        },
        "outputId": "b054c6c1-58f2-4038-ffa2-636a67048fcb"
      },
      "outputs": [
        {
          "output_type": "execute_result",
          "data": {
            "text/plain": [
              "(array([ 0,  1,  2,  3,  4,  5,  6,  7,  8,  9, 10, 11, 12, 13, 14]),\n",
              " [Text(0, 0, ' Exec-managerial'),\n",
              "  Text(1, 0, ' Handlers-cleaners'),\n",
              "  Text(2, 0, ' Prof-specialty'),\n",
              "  Text(3, 0, ' Other-service'),\n",
              "  Text(4, 0, ' Adm-clerical'),\n",
              "  Text(5, 0, ' Sales'),\n",
              "  Text(6, 0, ' Craft-repair'),\n",
              "  Text(7, 0, ' Transport-moving'),\n",
              "  Text(8, 0, ' Farming-fishing'),\n",
              "  Text(9, 0, ' Machine-op-inspct'),\n",
              "  Text(10, 0, ' Tech-support'),\n",
              "  Text(11, 0, ' ?'),\n",
              "  Text(12, 0, ' Protective-serv'),\n",
              "  Text(13, 0, ' Armed-Forces'),\n",
              "  Text(14, 0, ' Priv-house-serv')])"
            ]
          },
          "metadata": {},
          "execution_count": 159
        },
        {
          "output_type": "display_data",
          "data": {
            "text/plain": [
              "<Figure size 1500x1000 with 1 Axes>"
            ],
            "image/png": "[encoded data removed]"
          },
          "metadata": {}
        }
      ],
      "source": [
        "#checking the distribution of capital_gain and occupation as per gender\n",
        "plt.figure(figsize=(15,10))\n",
        "sns.barplot(x='Occupation', y='capital_gain', data=df_census,hue='Sex')\n",
        "plt.xticks(rotation=70)"
      ]
    },
    {
      "cell_type": "code",
      "execution_count": null,
      "id": "ecc3b686",
      "metadata": {
        "id": "ecc3b686",
        "colab": {
          "base_uri": "https://localhost:8080/",
          "height": 607
        },
        "outputId": "1a0c9b0c-1530-438c-ef8e-f9a68acdd97e"
      },
      "outputs": [
        {
          "output_type": "execute_result",
          "data": {
            "text/plain": [
              "<Axes: xlabel='Education', ylabel='hours_week'>"
            ]
          },
          "metadata": {},
          "execution_count": 160
        },
        {
          "output_type": "display_data",
          "data": {
            "text/plain": [
              "<Figure size 2000x1800 with 1 Axes>"
            ],
            "image/png": "[encoded data removed]"
          },
          "metadata": {}
        }
      ],
      "source": [
        "# Checking the distribution of education and hours_per_week as income\n",
        "plt.figure(figsize=(20,18))\n",
        "sns.barplot(x='Education', y='hours_week', data = df_census,hue='Income')"
      ]
    },
    {
      "cell_type": "code",
      "execution_count": null,
      "id": "84bd6000",
      "metadata": {
        "id": "84bd6000"
      },
      "outputs": [],
      "source": [
        "# converting the column into binary\n",
        "le = LabelEncoder()\n",
        "\n",
        "df_census['Income']=le.fit_transform(df_census['Income'])\n",
        "df_census['Sex']=le.fit_transform(df_census['Sex'])\n",
        "\n",
        "df_census = pd.get_dummies(df_census,drop_first=True)\n",
        "#display all columns\n",
        "pd.set_option('display.max_columns',100)"
      ]
    },
    {
      "cell_type": "code",
      "execution_count": null,
      "id": "146879bb",
      "metadata": {
        "id": "146879bb",
        "colab": {
          "base_uri": "https://localhost:8080/",
          "height": 352
        },
        "outputId": "08c14ddb-e656-43de-9989-d40b1fb646e6"
      },
      "outputs": [
        {
          "output_type": "execute_result",
          "data": {
            "text/plain": [
              "   Age  Fnlwgt  education_num  Sex  capital_gain  capital_loss  hours_week  \\\n",
              "0   50   83311             13    1             0             0          13   \n",
              "1   38  215646              9    1             0             0          40   \n",
              "2   53  234721              7    1             0             0          40   \n",
              "3   28  338409             13    0             0             0          40   \n",
              "4   37  284582             14    0             0             0          40   \n",
              "\n",
              "   Income  Workclass_ Federal-gov  Workclass_ Local-gov  \\\n",
              "0       0                       0                     0   \n",
              "1       0                       0                     0   \n",
              "2       0                       0                     0   \n",
              "3       0                       0                     0   \n",
              "4       0                       0                     0   \n",
              "\n",
              "   Workclass_ Never-worked  Workclass_ Private  Workclass_ Self-emp-inc  \\\n",
              "0                        0                   0                        0   \n",
              "1                        0                   1                        0   \n",
              "2                        0                   1                        0   \n",
              "3                        0                   1                        0   \n",
              "4                        0                   1                        0   \n",
              "\n",
              "   Workclass_ Self-emp-not-inc  Workclass_ State-gov  Workclass_ Without-pay  \\\n",
              "0                            1                     0                       0   \n",
              "1                            0                     0                       0   \n",
              "2                            0                     0                       0   \n",
              "3                            0                     0                       0   \n",
              "4                            0                     0                       0   \n",
              "\n",
              "   Education_ 11th  Education_ 12th  Education_ 1st-4th  Education_ 5th-6th  \\\n",
              "0                0                0                   0                   0   \n",
              "1                0                0                   0                   0   \n",
              "2                1                0                   0                   0   \n",
              "3                0                0                   0                   0   \n",
              "4                0                0                   0                   0   \n",
              "\n",
              "   Education_ 7th-8th  Education_ 9th  Education_ Assoc-acdm  \\\n",
              "0                   0               0                      0   \n",
              "1                   0               0                      0   \n",
              "2                   0               0                      0   \n",
              "3                   0               0                      0   \n",
              "4                   0               0                      0   \n",
              "\n",
              "   Education_ Assoc-voc  Education_ Bachelors  Education_ Doctorate  \\\n",
              "0                     0                     1                     0   \n",
              "1                     0                     0                     0   \n",
              "2                     0                     0                     0   \n",
              "3                     0                     1                     0   \n",
              "4                     0                     0                     0   \n",
              "\n",
              "   Education_ HS-grad  Education_ Masters  Education_ Preschool  \\\n",
              "0                   0                   0                     0   \n",
              "1                   1                   0                     0   \n",
              "2                   0                   0                     0   \n",
              "3                   0                   0                     0   \n",
              "4                   0                   1                     0   \n",
              "\n",
              "   Education_ Prof-school  Education_ Some-college  \\\n",
              "0                       0                        0   \n",
              "1                       0                        0   \n",
              "2                       0                        0   \n",
              "3                       0                        0   \n",
              "4                       0                        0   \n",
              "\n",
              "   marital_status_ Married-AF-spouse  marital_status_ Married-civ-spouse  \\\n",
              "0                                  0                                   1   \n",
              "1                                  0                                   0   \n",
              "2                                  0                                   1   \n",
              "3                                  0                                   1   \n",
              "4                                  0                                   1   \n",
              "\n",
              "   marital_status_ Married-spouse-absent  marital_status_ Never-married  \\\n",
              "0                                      0                              0   \n",
              "1                                      0                              0   \n",
              "2                                      0                              0   \n",
              "3                                      0                              0   \n",
              "4                                      0                              0   \n",
              "\n",
              "   marital_status_ Separated  marital_status_ Widowed  \\\n",
              "0                          0                        0   \n",
              "1                          0                        0   \n",
              "2                          0                        0   \n",
              "3                          0                        0   \n",
              "4                          0                        0   \n",
              "\n",
              "   Occupation_ Adm-clerical  Occupation_ Armed-Forces  \\\n",
              "0                         0                         0   \n",
              "1                         0                         0   \n",
              "2                         0                         0   \n",
              "3                         0                         0   \n",
              "4                         0                         0   \n",
              "\n",
              "   Occupation_ Craft-repair  Occupation_ Exec-managerial  \\\n",
              "0                         0                            1   \n",
              "1                         0                            0   \n",
              "2                         0                            0   \n",
              "3                         0                            0   \n",
              "4                         0                            1   \n",
              "\n",
              "   Occupation_ Farming-fishing  Occupation_ Handlers-cleaners  \\\n",
              "0                            0                              0   \n",
              "1                            0                              1   \n",
              "2                            0                              1   \n",
              "3                            0                              0   \n",
              "4                            0                              0   \n",
              "\n",
              "   Occupation_ Machine-op-inspct  Occupation_ Other-service  \\\n",
              "0                              0                          0   \n",
              "1                              0                          0   \n",
              "2                              0                          0   \n",
              "3                              0                          0   \n",
              "4                              0                          0   \n",
              "\n",
              "   Occupation_ Priv-house-serv  Occupation_ Prof-specialty  \\\n",
              "0                            0                           0   \n",
              "1                            0                           0   \n",
              "2                            0                           0   \n",
              "3                            0                           1   \n",
              "4                            0                           0   \n",
              "\n",
              "   Occupation_ Protective-serv  Occupation_ Sales  Occupation_ Tech-support  \\\n",
              "0                            0                  0                         0   \n",
              "1                            0                  0                         0   \n",
              "2                            0                  0                         0   \n",
              "3                            0                  0                         0   \n",
              "4                            0                  0                         0   \n",
              "\n",
              "   ...  Relationship_ Not-in-family  Relationship_ Other-relative  \\\n",
              "0  ...                            0                             0   \n",
              "1  ...                            1                             0   \n",
              "2  ...                            0                             0   \n",
              "3  ...                            0                             0   \n",
              "4  ...                            0                             0   \n",
              "\n",
              "   Relationship_ Own-child  Relationship_ Unmarried  Relationship_ Wife  \\\n",
              "0                        0                        0                   0   \n",
              "1                        0                        0                   0   \n",
              "2                        0                        0                   0   \n",
              "3                        0                        0                   1   \n",
              "4                        0                        0                   1   \n",
              "\n",
              "   Race_ Asian-Pac-Islander  Race_ Black  Race_ Other  Race_ White  \\\n",
              "0                         0            0            0            1   \n",
              "1                         0            0            0            1   \n",
              "2                         0            1            0            0   \n",
              "3                         0            1            0            0   \n",
              "4                         0            0            0            1   \n",
              "\n",
              "   native_country_ Cambodia  native_country_ Canada  native_country_ China  \\\n",
              "0                         0                       0                      0   \n",
              "1                         0                       0                      0   \n",
              "2                         0                       0                      0   \n",
              "3                         0                       0                      0   \n",
              "4                         0                       0                      0   \n",
              "\n",
              "   native_country_ Columbia  native_country_ Cuba  \\\n",
              "0                         0                     0   \n",
              "1                         0                     0   \n",
              "2                         0                     0   \n",
              "3                         0                     1   \n",
              "4                         0                     0   \n",
              "\n",
              "   native_country_ Dominican-Republic  native_country_ Ecuador  \\\n",
              "0                                   0                        0   \n",
              "1                                   0                        0   \n",
              "2                                   0                        0   \n",
              "3                                   0                        0   \n",
              "4                                   0                        0   \n",
              "\n",
              "   native_country_ El-Salvador  native_country_ England  \\\n",
              "0                            0                        0   \n",
              "1                            0                        0   \n",
              "2                            0                        0   \n",
              "3                            0                        0   \n",
              "4                            0                        0   \n",
              "\n",
              "   native_country_ France  native_country_ Germany  native_country_ Greece  \\\n",
              "0                       0                        0                       0   \n",
              "1                       0                        0                       0   \n",
              "2                       0                        0                       0   \n",
              "3                       0                        0                       0   \n",
              "4                       0                        0                       0   \n",
              "\n",
              "   native_country_ Guatemala  native_country_ Haiti  \\\n",
              "0                          0                      0   \n",
              "1                          0                      0   \n",
              "2                          0                      0   \n",
              "3                          0                      0   \n",
              "4                          0                      0   \n",
              "\n",
              "   native_country_ Holand-Netherlands  native_country_ Honduras  \\\n",
              "0                                   0                         0   \n",
              "1                                   0                         0   \n",
              "2                                   0                         0   \n",
              "3                                   0                         0   \n",
              "4                                   0                         0   \n",
              "\n",
              "   native_country_ Hong  native_country_ Hungary  native_country_ India  \\\n",
              "0                     0                        0                      0   \n",
              "1                     0                        0                      0   \n",
              "2                     0                        0                      0   \n",
              "3                     0                        0                      0   \n",
              "4                     0                        0                      0   \n",
              "\n",
              "   native_country_ Iran  native_country_ Ireland  native_country_ Italy  \\\n",
              "0                     0                        0                      0   \n",
              "1                     0                        0                      0   \n",
              "2                     0                        0                      0   \n",
              "3                     0                        0                      0   \n",
              "4                     0                        0                      0   \n",
              "\n",
              "   native_country_ Jamaica  native_country_ Japan  native_country_ Laos  \\\n",
              "0                        0                      0                     0   \n",
              "1                        0                      0                     0   \n",
              "2                        0                      0                     0   \n",
              "3                        0                      0                     0   \n",
              "4                        0                      0                     0   \n",
              "\n",
              "   native_country_ Mexico  native_country_ Nicaragua  \\\n",
              "0                       0                          0   \n",
              "1                       0                          0   \n",
              "2                       0                          0   \n",
              "3                       0                          0   \n",
              "4                       0                          0   \n",
              "\n",
              "   native_country_ Outlying-US(Guam-USVI-etc)  native_country_ Peru  \\\n",
              "0                                           0                     0   \n",
              "1                                           0                     0   \n",
              "2                                           0                     0   \n",
              "3                                           0                     0   \n",
              "4                                           0                     0   \n",
              "\n",
              "   native_country_ Philippines  native_country_ Poland  \\\n",
              "0                            0                       0   \n",
              "1                            0                       0   \n",
              "2                            0                       0   \n",
              "3                            0                       0   \n",
              "4                            0                       0   \n",
              "\n",
              "   native_country_ Portugal  native_country_ Puerto-Rico  \\\n",
              "0                         0                            0   \n",
              "1                         0                            0   \n",
              "2                         0                            0   \n",
              "3                         0                            0   \n",
              "4                         0                            0   \n",
              "\n",
              "   native_country_ Scotland  native_country_ South  native_country_ Taiwan  \\\n",
              "0                         0                      0                       0   \n",
              "1                         0                      0                       0   \n",
              "2                         0                      0                       0   \n",
              "3                         0                      0                       0   \n",
              "4                         0                      0                       0   \n",
              "\n",
              "   native_country_ Thailand  native_country_ Trinadad&Tobago  \\\n",
              "0                         0                                0   \n",
              "1                         0                                0   \n",
              "2                         0                                0   \n",
              "3                         0                                0   \n",
              "4                         0                                0   \n",
              "\n",
              "   native_country_ United-States  native_country_ Vietnam  \\\n",
              "0                              1                        0   \n",
              "1                              1                        0   \n",
              "2                              1                        0   \n",
              "3                              0                        0   \n",
              "4                              1                        0   \n",
              "\n",
              "   native_country_ Yugoslavia  \n",
              "0                           0  \n",
              "1                           0  \n",
              "2                           0  \n",
              "3                           0  \n",
              "4                           0  \n",
              "\n",
              "[5 rows x 101 columns]"
            ],
            "text/html": [
              "\n",
              "  <div id=\"df-b3373a1b-05d3-4e28-a6cc-384634395a11\">\n",
              "    <div class=\"colab-df-container\">\n",
              "      <div>\n",
              "<style scoped>\n",
              "    .dataframe tbody tr th:only-of-type {\n",
              "        vertical-align: middle;\n",
              "    }\n",
              "\n",
              "    .dataframe tbody tr th {\n",
              "        vertical-align: top;\n",
              "    }\n",
              "\n",
              "    .dataframe thead th {\n",
              "        text-align: right;\n",
              "    }\n",
              "</style>\n",
              "<table border=\"1\" class=\"dataframe\">\n",
              "  <thead>\n",
              "    <tr style=\"text-align: right;\">\n",
              "      <th></th>\n",
              "      <th>Age</th>\n",
              "      <th>Fnlwgt</th>\n",
              "      <th>education_num</th>\n",
              "      <th>Sex</th>\n",
              "      <th>capital_gain</th>\n",
              "      <th>capital_loss</th>\n",
              "      <th>hours_week</th>\n",
              "      <th>Income</th>\n",
              "      <th>Workclass_ Federal-gov</th>\n",
              "      <th>Workclass_ Local-gov</th>\n",
              "      <th>Workclass_ Never-worked</th>\n",
              "      <th>Workclass_ Private</th>\n",
              "      <th>Workclass_ Self-emp-inc</th>\n",
              "      <th>Workclass_ Self-emp-not-inc</th>\n",
              "      <th>Workclass_ State-gov</th>\n",
              "      <th>Workclass_ Without-pay</th>\n",
              "      <th>Education_ 11th</th>\n",
              "      <th>Education_ 12th</th>\n",
              "      <th>Education_ 1st-4th</th>\n",
              "      <th>Education_ 5th-6th</th>\n",
              "      <th>Education_ 7th-8th</th>\n",
              "      <th>Education_ 9th</th>\n",
              "      <th>Education_ Assoc-acdm</th>\n",
              "      <th>Education_ Assoc-voc</th>\n",
              "      <th>Education_ Bachelors</th>\n",
              "      <th>Education_ Doctorate</th>\n",
              "      <th>Education_ HS-grad</th>\n",
              "      <th>Education_ Masters</th>\n",
              "      <th>Education_ Preschool</th>\n",
              "      <th>Education_ Prof-school</th>\n",
              "      <th>Education_ Some-college</th>\n",
              "      <th>marital_status_ Married-AF-spouse</th>\n",
              "      <th>marital_status_ Married-civ-spouse</th>\n",
              "      <th>marital_status_ Married-spouse-absent</th>\n",
              "      <th>marital_status_ Never-married</th>\n",
              "      <th>marital_status_ Separated</th>\n",
              "      <th>marital_status_ Widowed</th>\n",
              "      <th>Occupation_ Adm-clerical</th>\n",
              "      <th>Occupation_ Armed-Forces</th>\n",
              "      <th>Occupation_ Craft-repair</th>\n",
              "      <th>Occupation_ Exec-managerial</th>\n",
              "      <th>Occupation_ Farming-fishing</th>\n",
              "      <th>Occupation_ Handlers-cleaners</th>\n",
              "      <th>Occupation_ Machine-op-inspct</th>\n",
              "      <th>Occupation_ Other-service</th>\n",
              "      <th>Occupation_ Priv-house-serv</th>\n",
              "      <th>Occupation_ Prof-specialty</th>\n",
              "      <th>Occupation_ Protective-serv</th>\n",
              "      <th>Occupation_ Sales</th>\n",
              "      <th>Occupation_ Tech-support</th>\n",
              "      <th>...</th>\n",
              "      <th>Relationship_ Not-in-family</th>\n",
              "      <th>Relationship_ Other-relative</th>\n",
              "      <th>Relationship_ Own-child</th>\n",
              "      <th>Relationship_ Unmarried</th>\n",
              "      <th>Relationship_ Wife</th>\n",
              "      <th>Race_ Asian-Pac-Islander</th>\n",
              "      <th>Race_ Black</th>\n",
              "      <th>Race_ Other</th>\n",
              "      <th>Race_ White</th>\n",
              "      <th>native_country_ Cambodia</th>\n",
              "      <th>native_country_ Canada</th>\n",
              "      <th>native_country_ China</th>\n",
              "      <th>native_country_ Columbia</th>\n",
              "      <th>native_country_ Cuba</th>\n",
              "      <th>native_country_ Dominican-Republic</th>\n",
              "      <th>native_country_ Ecuador</th>\n",
              "      <th>native_country_ El-Salvador</th>\n",
              "      <th>native_country_ England</th>\n",
              "      <th>native_country_ France</th>\n",
              "      <th>native_country_ Germany</th>\n",
              "      <th>native_country_ Greece</th>\n",
              "      <th>native_country_ Guatemala</th>\n",
              "      <th>native_country_ Haiti</th>\n",
              "      <th>native_country_ Holand-Netherlands</th>\n",
              "      <th>native_country_ Honduras</th>\n",
              "      <th>native_country_ Hong</th>\n",
              "      <th>native_country_ Hungary</th>\n",
              "      <th>native_country_ India</th>\n",
              "      <th>native_country_ Iran</th>\n",
              "      <th>native_country_ Ireland</th>\n",
              "      <th>native_country_ Italy</th>\n",
              "      <th>native_country_ Jamaica</th>\n",
              "      <th>native_country_ Japan</th>\n",
              "      <th>native_country_ Laos</th>\n",
              "      <th>native_country_ Mexico</th>\n",
              "      <th>native_country_ Nicaragua</th>\n",
              "      <th>native_country_ Outlying-US(Guam-USVI-etc)</th>\n",
              "      <th>native_country_ Peru</th>\n",
              "      <th>native_country_ Philippines</th>\n",
              "      <th>native_country_ Poland</th>\n",
              "      <th>native_country_ Portugal</th>\n",
              "      <th>native_country_ Puerto-Rico</th>\n",
              "      <th>native_country_ Scotland</th>\n",
              "      <th>native_country_ South</th>\n",
              "      <th>native_country_ Taiwan</th>\n",
              "      <th>native_country_ Thailand</th>\n",
              "      <th>native_country_ Trinadad&amp;Tobago</th>\n",
              "      <th>native_country_ United-States</th>\n",
              "      <th>native_country_ Vietnam</th>\n",
              "      <th>native_country_ Yugoslavia</th>\n",
              "    </tr>\n",
              "  </thead>\n",
              "  <tbody>\n",
              "    <tr>\n",
              "      <th>0</th>\n",
              "      <td>50</td>\n",
              "      <td>83311</td>\n",
              "      <td>13</td>\n",
              "      <td>1</td>\n",
              "      <td>0</td>\n",
              "      <td>0</td>\n",
              "      <td>13</td>\n",
              "      <td>0</td>\n",
              "      <td>0</td>\n",
              "      <td>0</td>\n",
              "      <td>0</td>\n",
              "      <td>0</td>\n",
              "      <td>0</td>\n",
              "      <td>1</td>\n",
              "      <td>0</td>\n",
              "      <td>0</td>\n",
              "      <td>0</td>\n",
              "      <td>0</td>\n",
              "      <td>0</td>\n",
              "      <td>0</td>\n",
              "      <td>0</td>\n",
              "      <td>0</td>\n",
              "      <td>0</td>\n",
              "      <td>0</td>\n",
              "      <td>1</td>\n",
              "      <td>0</td>\n",
              "      <td>0</td>\n",
              "      <td>0</td>\n",
              "      <td>0</td>\n",
              "      <td>0</td>\n",
              "      <td>0</td>\n",
              "      <td>0</td>\n",
              "      <td>1</td>\n",
              "      <td>0</td>\n",
              "      <td>0</td>\n",
              "      <td>0</td>\n",
              "      <td>0</td>\n",
              "      <td>0</td>\n",
              "      <td>0</td>\n",
              "      <td>0</td>\n",
              "      <td>1</td>\n",
              "      <td>0</td>\n",
              "      <td>0</td>\n",
              "      <td>0</td>\n",
              "      <td>0</td>\n",
              "      <td>0</td>\n",
              "      <td>0</td>\n",
              "      <td>0</td>\n",
              "      <td>0</td>\n",
              "      <td>0</td>\n",
              "      <td>...</td>\n",
              "      <td>0</td>\n",
              "      <td>0</td>\n",
              "      <td>0</td>\n",
              "      <td>0</td>\n",
              "      <td>0</td>\n",
              "      <td>0</td>\n",
              "      <td>0</td>\n",
              "      <td>0</td>\n",
              "      <td>1</td>\n",
              "      <td>0</td>\n",
              "      <td>0</td>\n",
              "      <td>0</td>\n",
              "      <td>0</td>\n",
              "      <td>0</td>\n",
              "      <td>0</td>\n",
              "      <td>0</td>\n",
              "      <td>0</td>\n",
              "      <td>0</td>\n",
              "      <td>0</td>\n",
              "      <td>0</td>\n",
              "      <td>0</td>\n",
              "      <td>0</td>\n",
              "      <td>0</td>\n",
              "      <td>0</td>\n",
              "      <td>0</td>\n",
              "      <td>0</td>\n",
              "      <td>0</td>\n",
              "      <td>0</td>\n",
              "      <td>0</td>\n",
              "      <td>0</td>\n",
              "      <td>0</td>\n",
              "      <td>0</td>\n",
              "      <td>0</td>\n",
              "      <td>0</td>\n",
              "      <td>0</td>\n",
              "      <td>0</td>\n",
              "      <td>0</td>\n",
              "      <td>0</td>\n",
              "      <td>0</td>\n",
              "      <td>0</td>\n",
              "      <td>0</td>\n",
              "      <td>0</td>\n",
              "      <td>0</td>\n",
              "      <td>0</td>\n",
              "      <td>0</td>\n",
              "      <td>0</td>\n",
              "      <td>0</td>\n",
              "      <td>1</td>\n",
              "      <td>0</td>\n",
              "      <td>0</td>\n",
              "    </tr>\n",
              "    <tr>\n",
              "      <th>1</th>\n",
              "      <td>38</td>\n",
              "      <td>215646</td>\n",
              "      <td>9</td>\n",
              "      <td>1</td>\n",
              "      <td>0</td>\n",
              "      <td>0</td>\n",
              "      <td>40</td>\n",
              "      <td>0</td>\n",
              "      <td>0</td>\n",
              "      <td>0</td>\n",
              "      <td>0</td>\n",
              "      <td>1</td>\n",
              "      <td>0</td>\n",
              "      <td>0</td>\n",
              "      <td>0</td>\n",
              "      <td>0</td>\n",
              "      <td>0</td>\n",
              "      <td>0</td>\n",
              "      <td>0</td>\n",
              "      <td>0</td>\n",
              "      <td>0</td>\n",
              "      <td>0</td>\n",
              "      <td>0</td>\n",
              "      <td>0</td>\n",
              "      <td>0</td>\n",
              "      <td>0</td>\n",
              "      <td>1</td>\n",
              "      <td>0</td>\n",
              "      <td>0</td>\n",
              "      <td>0</td>\n",
              "      <td>0</td>\n",
              "      <td>0</td>\n",
              "      <td>0</td>\n",
              "      <td>0</td>\n",
              "      <td>0</td>\n",
              "      <td>0</td>\n",
              "      <td>0</td>\n",
              "      <td>0</td>\n",
              "      <td>0</td>\n",
              "      <td>0</td>\n",
              "      <td>0</td>\n",
              "      <td>0</td>\n",
              "      <td>1</td>\n",
              "      <td>0</td>\n",
              "      <td>0</td>\n",
              "      <td>0</td>\n",
              "      <td>0</td>\n",
              "      <td>0</td>\n",
              "      <td>0</td>\n",
              "      <td>0</td>\n",
              "      <td>...</td>\n",
              "      <td>1</td>\n",
              "      <td>0</td>\n",
              "      <td>0</td>\n",
              "      <td>0</td>\n",
              "      <td>0</td>\n",
              "      <td>0</td>\n",
              "      <td>0</td>\n",
              "      <td>0</td>\n",
              "      <td>1</td>\n",
              "      <td>0</td>\n",
              "      <td>0</td>\n",
              "      <td>0</td>\n",
              "      <td>0</td>\n",
              "      <td>0</td>\n",
              "      <td>0</td>\n",
              "      <td>0</td>\n",
              "      <td>0</td>\n",
              "      <td>0</td>\n",
              "      <td>0</td>\n",
              "      <td>0</td>\n",
              "      <td>0</td>\n",
              "      <td>0</td>\n",
              "      <td>0</td>\n",
              "      <td>0</td>\n",
              "      <td>0</td>\n",
              "      <td>0</td>\n",
              "      <td>0</td>\n",
              "      <td>0</td>\n",
              "      <td>0</td>\n",
              "      <td>0</td>\n",
              "      <td>0</td>\n",
              "      <td>0</td>\n",
              "      <td>0</td>\n",
              "      <td>0</td>\n",
              "      <td>0</td>\n",
              "      <td>0</td>\n",
              "      <td>0</td>\n",
              "      <td>0</td>\n",
              "      <td>0</td>\n",
              "      <td>0</td>\n",
              "      <td>0</td>\n",
              "      <td>0</td>\n",
              "      <td>0</td>\n",
              "      <td>0</td>\n",
              "      <td>0</td>\n",
              "      <td>0</td>\n",
              "      <td>0</td>\n",
              "      <td>1</td>\n",
              "      <td>0</td>\n",
              "      <td>0</td>\n",
              "    </tr>\n",
              "    <tr>\n",
              "      <th>2</th>\n",
              "      <td>53</td>\n",
              "      <td>234721</td>\n",
              "      <td>7</td>\n",
              "      <td>1</td>\n",
              "      <td>0</td>\n",
              "      <td>0</td>\n",
              "      <td>40</td>\n",
              "      <td>0</td>\n",
              "      <td>0</td>\n",
              "      <td>0</td>\n",
              "      <td>0</td>\n",
              "      <td>1</td>\n",
              "      <td>0</td>\n",
              "      <td>0</td>\n",
              "      <td>0</td>\n",
              "      <td>0</td>\n",
              "      <td>1</td>\n",
              "      <td>0</td>\n",
              "      <td>0</td>\n",
              "      <td>0</td>\n",
              "      <td>0</td>\n",
              "      <td>0</td>\n",
              "      <td>0</td>\n",
              "      <td>0</td>\n",
              "      <td>0</td>\n",
              "      <td>0</td>\n",
              "      <td>0</td>\n",
              "      <td>0</td>\n",
              "      <td>0</td>\n",
              "      <td>0</td>\n",
              "      <td>0</td>\n",
              "      <td>0</td>\n",
              "      <td>1</td>\n",
              "      <td>0</td>\n",
              "      <td>0</td>\n",
              "      <td>0</td>\n",
              "      <td>0</td>\n",
              "      <td>0</td>\n",
              "      <td>0</td>\n",
              "      <td>0</td>\n",
              "      <td>0</td>\n",
              "      <td>0</td>\n",
              "      <td>1</td>\n",
              "      <td>0</td>\n",
              "      <td>0</td>\n",
              "      <td>0</td>\n",
              "      <td>0</td>\n",
              "      <td>0</td>\n",
              "      <td>0</td>\n",
              "      <td>0</td>\n",
              "      <td>...</td>\n",
              "      <td>0</td>\n",
              "      <td>0</td>\n",
              "      <td>0</td>\n",
              "      <td>0</td>\n",
              "      <td>0</td>\n",
              "      <td>0</td>\n",
              "      <td>1</td>\n",
              "      <td>0</td>\n",
              "      <td>0</td>\n",
              "      <td>0</td>\n",
              "      <td>0</td>\n",
              "      <td>0</td>\n",
              "      <td>0</td>\n",
              "      <td>0</td>\n",
              "      <td>0</td>\n",
              "      <td>0</td>\n",
              "      <td>0</td>\n",
              "      <td>0</td>\n",
              "      <td>0</td>\n",
              "      <td>0</td>\n",
              "      <td>0</td>\n",
              "      <td>0</td>\n",
              "      <td>0</td>\n",
              "      <td>0</td>\n",
              "      <td>0</td>\n",
              "      <td>0</td>\n",
              "      <td>0</td>\n",
              "      <td>0</td>\n",
              "      <td>0</td>\n",
              "      <td>0</td>\n",
              "      <td>0</td>\n",
              "      <td>0</td>\n",
              "      <td>0</td>\n",
              "      <td>0</td>\n",
              "      <td>0</td>\n",
              "      <td>0</td>\n",
              "      <td>0</td>\n",
              "      <td>0</td>\n",
              "      <td>0</td>\n",
              "      <td>0</td>\n",
              "      <td>0</td>\n",
              "      <td>0</td>\n",
              "      <td>0</td>\n",
              "      <td>0</td>\n",
              "      <td>0</td>\n",
              "      <td>0</td>\n",
              "      <td>0</td>\n",
              "      <td>1</td>\n",
              "      <td>0</td>\n",
              "      <td>0</td>\n",
              "    </tr>\n",
              "    <tr>\n",
              "      <th>3</th>\n",
              "      <td>28</td>\n",
              "      <td>338409</td>\n",
              "      <td>13</td>\n",
              "      <td>0</td>\n",
              "      <td>0</td>\n",
              "      <td>0</td>\n",
              "      <td>40</td>\n",
              "      <td>0</td>\n",
              "      <td>0</td>\n",
              "      <td>0</td>\n",
              "      <td>0</td>\n",
              "      <td>1</td>\n",
              "      <td>0</td>\n",
              "      <td>0</td>\n",
              "      <td>0</td>\n",
              "      <td>0</td>\n",
              "      <td>0</td>\n",
              "      <td>0</td>\n",
              "      <td>0</td>\n",
              "      <td>0</td>\n",
              "      <td>0</td>\n",
              "      <td>0</td>\n",
              "      <td>0</td>\n",
              "      <td>0</td>\n",
              "      <td>1</td>\n",
              "      <td>0</td>\n",
              "      <td>0</td>\n",
              "      <td>0</td>\n",
              "      <td>0</td>\n",
              "      <td>0</td>\n",
              "      <td>0</td>\n",
              "      <td>0</td>\n",
              "      <td>1</td>\n",
              "      <td>0</td>\n",
              "      <td>0</td>\n",
              "      <td>0</td>\n",
              "      <td>0</td>\n",
              "      <td>0</td>\n",
              "      <td>0</td>\n",
              "      <td>0</td>\n",
              "      <td>0</td>\n",
              "      <td>0</td>\n",
              "      <td>0</td>\n",
              "      <td>0</td>\n",
              "      <td>0</td>\n",
              "      <td>0</td>\n",
              "      <td>1</td>\n",
              "      <td>0</td>\n",
              "      <td>0</td>\n",
              "      <td>0</td>\n",
              "      <td>...</td>\n",
              "      <td>0</td>\n",
              "      <td>0</td>\n",
              "      <td>0</td>\n",
              "      <td>0</td>\n",
              "      <td>1</td>\n",
              "      <td>0</td>\n",
              "      <td>1</td>\n",
              "      <td>0</td>\n",
              "      <td>0</td>\n",
              "      <td>0</td>\n",
              "      <td>0</td>\n",
              "      <td>0</td>\n",
              "      <td>0</td>\n",
              "      <td>1</td>\n",
              "      <td>0</td>\n",
              "      <td>0</td>\n",
              "      <td>0</td>\n",
              "      <td>0</td>\n",
              "      <td>0</td>\n",
              "      <td>0</td>\n",
              "      <td>0</td>\n",
              "      <td>0</td>\n",
              "      <td>0</td>\n",
              "      <td>0</td>\n",
              "      <td>0</td>\n",
              "      <td>0</td>\n",
              "      <td>0</td>\n",
              "      <td>0</td>\n",
              "      <td>0</td>\n",
              "      <td>0</td>\n",
              "      <td>0</td>\n",
              "      <td>0</td>\n",
              "      <td>0</td>\n",
              "      <td>0</td>\n",
              "      <td>0</td>\n",
              "      <td>0</td>\n",
              "      <td>0</td>\n",
              "      <td>0</td>\n",
              "      <td>0</td>\n",
              "      <td>0</td>\n",
              "      <td>0</td>\n",
              "      <td>0</td>\n",
              "      <td>0</td>\n",
              "      <td>0</td>\n",
              "      <td>0</td>\n",
              "      <td>0</td>\n",
              "      <td>0</td>\n",
              "      <td>0</td>\n",
              "      <td>0</td>\n",
              "      <td>0</td>\n",
              "    </tr>\n",
              "    <tr>\n",
              "      <th>4</th>\n",
              "      <td>37</td>\n",
              "      <td>284582</td>\n",
              "      <td>14</td>\n",
              "      <td>0</td>\n",
              "      <td>0</td>\n",
              "      <td>0</td>\n",
              "      <td>40</td>\n",
              "      <td>0</td>\n",
              "      <td>0</td>\n",
              "      <td>0</td>\n",
              "      <td>0</td>\n",
              "      <td>1</td>\n",
              "      <td>0</td>\n",
              "      <td>0</td>\n",
              "      <td>0</td>\n",
              "      <td>0</td>\n",
              "      <td>0</td>\n",
              "      <td>0</td>\n",
              "      <td>0</td>\n",
              "      <td>0</td>\n",
              "      <td>0</td>\n",
              "      <td>0</td>\n",
              "      <td>0</td>\n",
              "      <td>0</td>\n",
              "      <td>0</td>\n",
              "      <td>0</td>\n",
              "      <td>0</td>\n",
              "      <td>1</td>\n",
              "      <td>0</td>\n",
              "      <td>0</td>\n",
              "      <td>0</td>\n",
              "      <td>0</td>\n",
              "      <td>1</td>\n",
              "      <td>0</td>\n",
              "      <td>0</td>\n",
              "      <td>0</td>\n",
              "      <td>0</td>\n",
              "      <td>0</td>\n",
              "      <td>0</td>\n",
              "      <td>0</td>\n",
              "      <td>1</td>\n",
              "      <td>0</td>\n",
              "      <td>0</td>\n",
              "      <td>0</td>\n",
              "      <td>0</td>\n",
              "      <td>0</td>\n",
              "      <td>0</td>\n",
              "      <td>0</td>\n",
              "      <td>0</td>\n",
              "      <td>0</td>\n",
              "      <td>...</td>\n",
              "      <td>0</td>\n",
              "      <td>0</td>\n",
              "      <td>0</td>\n",
              "      <td>0</td>\n",
              "      <td>1</td>\n",
              "      <td>0</td>\n",
              "      <td>0</td>\n",
              "      <td>0</td>\n",
              "      <td>1</td>\n",
              "      <td>0</td>\n",
              "      <td>0</td>\n",
              "      <td>0</td>\n",
              "      <td>0</td>\n",
              "      <td>0</td>\n",
              "      <td>0</td>\n",
              "      <td>0</td>\n",
              "      <td>0</td>\n",
              "      <td>0</td>\n",
              "      <td>0</td>\n",
              "      <td>0</td>\n",
              "      <td>0</td>\n",
              "      <td>0</td>\n",
              "      <td>0</td>\n",
              "      <td>0</td>\n",
              "      <td>0</td>\n",
              "      <td>0</td>\n",
              "      <td>0</td>\n",
              "      <td>0</td>\n",
              "      <td>0</td>\n",
              "      <td>0</td>\n",
              "      <td>0</td>\n",
              "      <td>0</td>\n",
              "      <td>0</td>\n",
              "      <td>0</td>\n",
              "      <td>0</td>\n",
              "      <td>0</td>\n",
              "      <td>0</td>\n",
              "      <td>0</td>\n",
              "      <td>0</td>\n",
              "      <td>0</td>\n",
              "      <td>0</td>\n",
              "      <td>0</td>\n",
              "      <td>0</td>\n",
              "      <td>0</td>\n",
              "      <td>0</td>\n",
              "      <td>0</td>\n",
              "      <td>0</td>\n",
              "      <td>1</td>\n",
              "      <td>0</td>\n",
              "      <td>0</td>\n",
              "    </tr>\n",
              "  </tbody>\n",
              "</table>\n",
              "<p>5 rows × 101 columns</p>\n",
              "</div>\n",
              "      <button class=\"colab-df-convert\" onclick=\"convertToInteractive('df-b3373a1b-05d3-4e28-a6cc-384634395a11')\"\n",
              "              title=\"Convert this dataframe to an interactive table.\"\n",
              "              style=\"display:none;\">\n",
              "        \n",
              "  <svg xmlns=\"http://www.w3.org/2000/svg\" height=\"24px\"viewBox=\"0 0 24 24\"\n",
              "       width=\"24px\">\n",
              "    <path d=\"M0 0h24v24H0V0z\" fill=\"none\"/>\n",
              "    <path d=\"M18.56 5.44l.94 2.06.94-2.06 2.06-.94-2.06-.94-.94-2.06-.94 2.06-2.06.94zm-11 1L8.5 8.5l.94-2.06 2.06-.94-2.06-.94L8.5 2.5l-.94 2.06-2.06.94zm10 10l.94 2.06.94-2.06 2.06-.94-2.06-.94-.94-2.06-.94 2.06-2.06.94z\"/><path d=\"M17.41 7.96l-1.37-1.37c-.4-.4-.92-.59-1.43-.59-.52 0-1.04.2-1.43.59L10.3 9.45l-7.72 7.72c-.78.78-.78 2.05 0 2.83L4 21.41c.39.39.9.59 1.41.59.51 0 1.02-.2 1.41-.59l7.78-7.78 2.81-2.81c.8-.78.8-2.07 0-2.86zM5.41 20L4 18.59l7.72-7.72 1.47 1.35L5.41 20z\"/>\n",
              "  </svg>\n",
              "      </button>\n",
              "      \n",
              "  <style>\n",
              "    .colab-df-container {\n",
              "      display:flex;\n",
              "      flex-wrap:wrap;\n",
              "      gap: 12px;\n",
              "    }\n",
              "\n",
              "    .colab-df-convert {\n",
              "      background-color: #E8F0FE;\n",
              "      border: none;\n",
              "      border-radius: 50%;\n",
              "      cursor: pointer;\n",
              "      display: none;\n",
              "      fill: #1967D2;\n",
              "      height: 32px;\n",
              "      padding: 0 0 0 0;\n",
              "      width: 32px;\n",
              "    }\n",
              "\n",
              "    .colab-df-convert:hover {\n",
              "      background-color: #E2EBFA;\n",
              "      box-shadow: 0px 1px 2px rgba(60, 64, 67, 0.3), 0px 1px 3px 1px rgba(60, 64, 67, 0.15);\n",
              "      fill: #174EA6;\n",
              "    }\n",
              "\n",
              "    [theme=dark] .colab-df-convert {\n",
              "      background-color: #3B4455;\n",
              "      fill: #D2E3FC;\n",
              "    }\n",
              "\n",
              "    [theme=dark] .colab-df-convert:hover {\n",
              "      background-color: #434B5C;\n",
              "      box-shadow: 0px 1px 3px 1px rgba(0, 0, 0, 0.15);\n",
              "      filter: drop-shadow(0px 1px 2px rgba(0, 0, 0, 0.3));\n",
              "      fill: #FFFFFF;\n",
              "    }\n",
              "  </style>\n",
              "\n",
              "      <script>\n",
              "        const buttonEl =\n",
              "          document.querySelector('#df-b3373a1b-05d3-4e28-a6cc-384634395a11 button.colab-df-convert');\n",
              "        buttonEl.style.display =\n",
              "          google.colab.kernel.accessAllowed ? 'block' : 'none';\n",
              "\n",
              "        async function convertToInteractive(key) {\n",
              "          const element = document.querySelector('#df-b3373a1b-05d3-4e28-a6cc-384634395a11');\n",
              "          const dataTable =\n",
              "            await google.colab.kernel.invokeFunction('convertToInteractive',\n",
              "                                                     [key], {});\n",
              "          if (!dataTable) return;\n",
              "\n",
              "          const docLinkHtml = 'Like what you see? Visit the ' +\n",
              "            '<a target=\"_blank\" href=https://colab.research.google.com/notebooks/data_table.ipynb>data table notebook</a>'\n",
              "            + ' to learn more about interactive tables.';\n",
              "          element.innerHTML = '';\n",
              "          dataTable['output_type'] = 'display_data';\n",
              "          await google.colab.output.renderOutput(dataTable, element);\n",
              "          const docLink = document.createElement('div');\n",
              "          docLink.innerHTML = docLinkHtml;\n",
              "          element.appendChild(docLink);\n",
              "        }\n",
              "      </script>\n",
              "    </div>\n",
              "  </div>\n",
              "  "
            ]
          },
          "metadata": {},
          "execution_count": 162
        }
      ],
      "source": [
        "df_census.head()"
      ]
    },
    {
      "cell_type": "code",
      "execution_count": null,
      "id": "a1d94f17",
      "metadata": {
        "id": "a1d94f17"
      },
      "outputs": [],
      "source": [
        "# Using standard scaler for age, fnlwgt, education_num, hours_per_week\n",
        "scaler = StandardScaler()\n",
        "\n",
        "train_col_scale = df_census[['Age','Fnlwgt','education_num','hours_week']]\n",
        "\n",
        "train_scaler_col = scaler.fit_transform(train_col_scale)\n",
        "\n",
        "train_scaler_col = pd.DataFrame(train_scaler_col,columns=train_col_scale.columns)\n",
        "\n",
        "df_census['Age'] = train_scaler_col['Age']\n",
        "df_census['Fnlwgt'] = train_scaler_col['Fnlwgt']\n",
        "df_census['education_num'] = train_scaler_col['education_num']\n",
        "df_census['hours_week'] = train_scaler_col['hours_week']\n",
        "# Now the four features are scaled and we are ready to build model"
      ]
    },
    {
      "cell_type": "code",
      "execution_count": null,
      "id": "0e2b5922",
      "metadata": {
        "id": "0e2b5922"
      },
      "outputs": [],
      "source": [
        "#Model Building and Saving"
      ]
    },
    {
      "cell_type": "code",
      "execution_count": null,
      "id": "5521ad4e",
      "metadata": {
        "id": "5521ad4e"
      },
      "outputs": [],
      "source": [
        "x = df_census.drop(['Income'],axis=1)\n",
        "y = df_census['Income']"
      ]
    },
    {
      "cell_type": "code",
      "execution_count": null,
      "id": "c4e4732c",
      "metadata": {
        "id": "c4e4732c"
      },
      "outputs": [],
      "source": [
        "# dividing the data into train and test\n",
        "x_train, x_test, y_train, y_test = train_test_split(x,y,test_size=0.30, random_state = 11)"
      ]
    },
    {
      "cell_type": "code",
      "execution_count": null,
      "id": "27716372",
      "metadata": {
        "id": "27716372",
        "colab": {
          "base_uri": "https://localhost:8080/"
        },
        "outputId": "9f242f45-7227-4102-bd46-e807251937ac"
      },
      "outputs": [
        {
          "output_type": "stream",
          "name": "stdout",
          "text": [
            "Model is created :)\n"
          ]
        }
      ],
      "source": [
        "# Model building\n",
        "lr = LogisticRegression(multi_class='multinomial', n_jobs=-1)\n",
        "knn = KNeighborsClassifier()\n",
        "dt = DecisionTreeClassifier()\n",
        "rf = RandomForestClassifier()\n",
        "adb = AdaBoostClassifier()\n",
        "svm = SVC()\n",
        "gdboost = GradientBoostingClassifier()\n",
        "xgboost = XGBClassifier()\n",
        "\n",
        "print(\"Model is created :)\")"
      ]
    },
    {
      "cell_type": "code",
      "execution_count": null,
      "id": "d9f517ec",
      "metadata": {
        "id": "d9f517ec",
        "colab": {
          "base_uri": "https://localhost:8080/"
        },
        "outputId": "face9f10-d515-405d-80b0-6eacec38fe26"
      },
      "outputs": [
        {
          "output_type": "stream",
          "name": "stdout",
          "text": [
            "Trained :)\n"
          ]
        }
      ],
      "source": [
        "lr.fit(x_train,y_train)\n",
        "knn.fit(x_train,y_train)\n",
        "dt.fit(x_train,y_train)\n",
        "rf.fit(x_train,y_train)\n",
        "adb.fit(x_train,y_train)\n",
        "svm.fit(x_train,y_train)\n",
        "gdboost.fit(x_train,y_train)\n",
        "xgboost.fit(x_train,y_train)\n",
        "\n",
        "print(\"Trained :)\")"
      ]
    },
    {
      "cell_type": "code",
      "execution_count": null,
      "id": "905bd452",
      "metadata": {
        "id": "905bd452",
        "colab": {
          "base_uri": "https://localhost:8080/"
        },
        "outputId": "1e9cb834-37dc-443a-fa9a-9f0114af1261"
      },
      "outputs": [
        {
          "output_type": "stream",
          "name": "stdout",
          "text": [
            "Lr classification score 0.8432783432783433\n",
            "Knn classification score 0.897990522990523\n",
            "dt classification score 1.0\n",
            "rf classification score 1.0\n",
            "adb classification score 0.8585907335907336\n",
            "svm classification score 0.8015531765531766\n",
            "Gdboost classification score 0.8683748683748683\n",
            "Xgboost classification score 0.9067655317655318\n"
          ]
        }
      ],
      "source": [
        "# Checking the accuracy\n",
        "\n",
        "print(\"Lr classification score\", lr.score(x_train,y_train))\n",
        "print(\"Knn classification score\", knn.score(x_train,y_train))\n",
        "print(\"dt classification score\", dt.score(x_train,y_train))\n",
        "print(\"rf classification score\", rf.score(x_train,y_train))\n",
        "print(\"adb classification score\", adb.score(x_train,y_train))\n",
        "print(\"svm classification score\", svm.score(x_train,y_train))\n",
        "print(\"Gdboost classification score\", gdboost.score(x_train,y_train))\n",
        "print(\"Xgboost classification score\", xgboost.score(x_train,y_train))"
      ]
    },
    {
      "cell_type": "code",
      "source": [
        "lr_yprad = lr.predict(x_test)\n",
        "knn_yprad = knn.predict(x_test)\n",
        "dt_yprad = dt.predict(x_test)\n",
        "rf_yprad = rf.predict(x_test)\n",
        "adb_yprad = adb.predict(x_test)\n",
        "svm_yprad = svm.predict(x_test)\n",
        "gdboost_yprad = gdboost.predict(x_test)\n",
        "xgboost_yprad = xgboost.predict(x_test)"
      ],
      "metadata": {
        "id": "L0gwAMxfSfur"
      },
      "id": "L0gwAMxfSfur",
      "execution_count": null,
      "outputs": []
    },
    {
      "cell_type": "code",
      "source": [
        "lr_conf_mat = confusion_matrix(y_test,lr_yprad)\n",
        "print(\"confusion matrix for lr_model\",'\\n',lr_conf_mat)"
      ],
      "metadata": {
        "id": "2pe46cJmTdbs",
        "colab": {
          "base_uri": "https://localhost:8080/"
        },
        "outputId": "60d0e175-04d2-48c7-8db0-6be26b92cc41"
      },
      "id": "2pe46cJmTdbs",
      "execution_count": null,
      "outputs": [
        {
          "output_type": "stream",
          "name": "stdout",
          "text": [
            "confusion matrix for lr_model \n",
            " [[6900  512]\n",
            " [ 947 1409]]\n"
          ]
        }
      ]
    },
    {
      "cell_type": "code",
      "source": [
        "knn_conf_mat = confusion_matrix(y_test,knn_yprad)\n",
        "print(\"confusion matrix for Knn_model\",'\\n',knn_conf_mat)"
      ],
      "metadata": {
        "id": "3RGrSNhJT5_K",
        "colab": {
          "base_uri": "https://localhost:8080/"
        },
        "outputId": "b6c29974-266c-4d14-c3c6-47ef050932bb"
      },
      "id": "3RGrSNhJT5_K",
      "execution_count": null,
      "outputs": [
        {
          "output_type": "stream",
          "name": "stdout",
          "text": [
            "confusion matrix for Knn_model \n",
            " [[6762  650]\n",
            " [ 744 1612]]\n"
          ]
        }
      ]
    },
    {
      "cell_type": "code",
      "source": [
        "dt_conf_mat = confusion_matrix(y_test,dt_yprad)\n",
        "print(\"confusion matrix for dt_model\",'\\n',dt_conf_mat)"
      ],
      "metadata": {
        "id": "LFeBewCTUCWi",
        "colab": {
          "base_uri": "https://localhost:8080/"
        },
        "outputId": "02e753b4-7dce-4fd1-ee9b-cf3e09b8fdcd"
      },
      "id": "LFeBewCTUCWi",
      "execution_count": null,
      "outputs": [
        {
          "output_type": "stream",
          "name": "stdout",
          "text": [
            "confusion matrix for dt_model \n",
            " [[6462  950]\n",
            " [ 883 1473]]\n"
          ]
        }
      ]
    },
    {
      "cell_type": "code",
      "source": [
        "rf_conf_mat = confusion_matrix(y_test,rf_yprad)\n",
        "print(\"confusion matrix for rf_model\",'\\n',rf_conf_mat)"
      ],
      "metadata": {
        "id": "g3bh3p4rUPXp",
        "colab": {
          "base_uri": "https://localhost:8080/"
        },
        "outputId": "910cd5a7-cea1-44ed-e006-f04a7f6cabda"
      },
      "id": "g3bh3p4rUPXp",
      "execution_count": null,
      "outputs": [
        {
          "output_type": "stream",
          "name": "stdout",
          "text": [
            "confusion matrix for rf_model \n",
            " [[6871  541]\n",
            " [ 865 1491]]\n"
          ]
        }
      ]
    },
    {
      "cell_type": "code",
      "source": [
        "adb_conf_mat = confusion_matrix(y_test,adb_yprad)\n",
        "print(\"confusion matrix for adb_model\",'\\n',adb_conf_mat)"
      ],
      "metadata": {
        "id": "iT9u5Zp_UT7U",
        "colab": {
          "base_uri": "https://localhost:8080/"
        },
        "outputId": "a611eedc-50a5-40e3-957c-998f9d7df113"
      },
      "id": "iT9u5Zp_UT7U",
      "execution_count": null,
      "outputs": [
        {
          "output_type": "stream",
          "name": "stdout",
          "text": [
            "confusion matrix for adb_model \n",
            " [[6938  474]\n",
            " [ 867 1489]]\n"
          ]
        }
      ]
    },
    {
      "cell_type": "code",
      "source": [
        "svm_conf_mat = confusion_matrix(y_test,svm_yprad)\n",
        "print(\"confusion matrix for svm_model\",'\\n',svm_conf_mat)"
      ],
      "metadata": {
        "id": "w66M4uaKUacg",
        "colab": {
          "base_uri": "https://localhost:8080/"
        },
        "outputId": "8ccfacaf-2125-4192-888d-f4c14c1479dd"
      },
      "id": "w66M4uaKUacg",
      "execution_count": null,
      "outputs": [
        {
          "output_type": "stream",
          "name": "stdout",
          "text": [
            "confusion matrix for svm_model \n",
            " [[7182  230]\n",
            " [1683  673]]\n"
          ]
        }
      ]
    },
    {
      "cell_type": "code",
      "source": [
        "gdboost_conf_mat = confusion_matrix(y_test,gdboost_yprad)\n",
        "print(\"confusion matrix for gdboost_model\",'\\n',gdboost_conf_mat)"
      ],
      "metadata": {
        "id": "E9ekQR7gUg0U",
        "colab": {
          "base_uri": "https://localhost:8080/"
        },
        "outputId": "14138e47-c021-4015-9029-8ded2939a9f4"
      },
      "id": "E9ekQR7gUg0U",
      "execution_count": null,
      "outputs": [
        {
          "output_type": "stream",
          "name": "stdout",
          "text": [
            "confusion matrix for gdboost_model \n",
            " [[7037  375]\n",
            " [ 898 1458]]\n"
          ]
        }
      ]
    },
    {
      "cell_type": "code",
      "source": [
        "xgboost_conf_mat = confusion_matrix(y_test,xgboost_yprad)\n",
        "print(\"confusion matrix for xgboost_model\",'\\n',xgboost_conf_mat)"
      ],
      "metadata": {
        "id": "Wr1Wb0eBUtAQ",
        "colab": {
          "base_uri": "https://localhost:8080/"
        },
        "outputId": "e4a13330-c238-46b6-879a-09a2e63e11b6"
      },
      "id": "Wr1Wb0eBUtAQ",
      "execution_count": null,
      "outputs": [
        {
          "output_type": "stream",
          "name": "stdout",
          "text": [
            "confusion matrix for xgboost_model \n",
            " [[6950  462]\n",
            " [ 745 1611]]\n"
          ]
        }
      ]
    },
    {
      "cell_type": "code",
      "source": [
        "# Checking classification report for each models\n",
        "\n",
        "lr_report = classification_report(y_test,lr_yprad)\n",
        "print(\"lr classification_report\",'\\n',lr_report)"
      ],
      "metadata": {
        "id": "-87JFlEQVq0q",
        "colab": {
          "base_uri": "https://localhost:8080/"
        },
        "outputId": "4d9c9871-2136-4f36-8909-831a17ab2113"
      },
      "id": "-87JFlEQVq0q",
      "execution_count": null,
      "outputs": [
        {
          "output_type": "stream",
          "name": "stdout",
          "text": [
            "lr classification_report \n",
            "               precision    recall  f1-score   support\n",
            "\n",
            "           0       0.88      0.93      0.90      7412\n",
            "           1       0.73      0.60      0.66      2356\n",
            "\n",
            "    accuracy                           0.85      9768\n",
            "   macro avg       0.81      0.76      0.78      9768\n",
            "weighted avg       0.84      0.85      0.85      9768\n",
            "\n"
          ]
        }
      ]
    },
    {
      "cell_type": "code",
      "source": [
        "knn_report = classification_report(y_test,knn_yprad)\n",
        "print(\"knn classification_report\",'\\n',knn_report)"
      ],
      "metadata": {
        "id": "MhJa7h1OWDPX",
        "colab": {
          "base_uri": "https://localhost:8080/"
        },
        "outputId": "d7952d3b-28f7-42d7-e658-4fcb9887e397"
      },
      "id": "MhJa7h1OWDPX",
      "execution_count": null,
      "outputs": [
        {
          "output_type": "stream",
          "name": "stdout",
          "text": [
            "knn classification_report \n",
            "               precision    recall  f1-score   support\n",
            "\n",
            "           0       0.90      0.91      0.91      7412\n",
            "           1       0.71      0.68      0.70      2356\n",
            "\n",
            "    accuracy                           0.86      9768\n",
            "   macro avg       0.81      0.80      0.80      9768\n",
            "weighted avg       0.86      0.86      0.86      9768\n",
            "\n"
          ]
        }
      ]
    },
    {
      "cell_type": "code",
      "source": [
        "dt_report = classification_report(y_test,dt_yprad)\n",
        "print(\"dt classification_report\",'\\n',dt_report)"
      ],
      "metadata": {
        "id": "HG_JJMevWLQ6",
        "colab": {
          "base_uri": "https://localhost:8080/"
        },
        "outputId": "69a6bf35-10f8-4588-aa53-914aceb28b74"
      },
      "id": "HG_JJMevWLQ6",
      "execution_count": null,
      "outputs": [
        {
          "output_type": "stream",
          "name": "stdout",
          "text": [
            "dt classification_report \n",
            "               precision    recall  f1-score   support\n",
            "\n",
            "           0       0.88      0.87      0.88      7412\n",
            "           1       0.61      0.63      0.62      2356\n",
            "\n",
            "    accuracy                           0.81      9768\n",
            "   macro avg       0.74      0.75      0.75      9768\n",
            "weighted avg       0.81      0.81      0.81      9768\n",
            "\n"
          ]
        }
      ]
    },
    {
      "cell_type": "code",
      "source": [
        "rf_report = classification_report(y_test,rf_yprad)\n",
        "print(\"rf classification_report\",'\\n',rf_report)"
      ],
      "metadata": {
        "id": "-m2p3_EFWRDv",
        "colab": {
          "base_uri": "https://localhost:8080/"
        },
        "outputId": "6dcaebdc-2f06-4d69-8a21-988abf5f11e0"
      },
      "id": "-m2p3_EFWRDv",
      "execution_count": null,
      "outputs": [
        {
          "output_type": "stream",
          "name": "stdout",
          "text": [
            "rf classification_report \n",
            "               precision    recall  f1-score   support\n",
            "\n",
            "           0       0.89      0.93      0.91      7412\n",
            "           1       0.73      0.63      0.68      2356\n",
            "\n",
            "    accuracy                           0.86      9768\n",
            "   macro avg       0.81      0.78      0.79      9768\n",
            "weighted avg       0.85      0.86      0.85      9768\n",
            "\n"
          ]
        }
      ]
    },
    {
      "cell_type": "code",
      "source": [
        "adb_report = classification_report(y_test,adb_yprad)\n",
        "print(\"adb classification_report\",'\\n',adb_report)"
      ],
      "metadata": {
        "id": "OG65FaS4WWK_",
        "colab": {
          "base_uri": "https://localhost:8080/"
        },
        "outputId": "1115f108-2365-44a2-ef72-903ceee19728"
      },
      "id": "OG65FaS4WWK_",
      "execution_count": null,
      "outputs": [
        {
          "output_type": "stream",
          "name": "stdout",
          "text": [
            "adb classification_report \n",
            "               precision    recall  f1-score   support\n",
            "\n",
            "           0       0.89      0.94      0.91      7412\n",
            "           1       0.76      0.63      0.69      2356\n",
            "\n",
            "    accuracy                           0.86      9768\n",
            "   macro avg       0.82      0.78      0.80      9768\n",
            "weighted avg       0.86      0.86      0.86      9768\n",
            "\n"
          ]
        }
      ]
    },
    {
      "cell_type": "code",
      "source": [
        "svm_report = classification_report(y_test,svm_yprad)\n",
        "print(\"svm classification_report\",'\\n',svm_report)"
      ],
      "metadata": {
        "id": "Y0amYrfJWbVj",
        "colab": {
          "base_uri": "https://localhost:8080/"
        },
        "outputId": "1f8ba90d-5c40-4e6d-db04-15a9b1bc1f19"
      },
      "id": "Y0amYrfJWbVj",
      "execution_count": null,
      "outputs": [
        {
          "output_type": "stream",
          "name": "stdout",
          "text": [
            "svm classification_report \n",
            "               precision    recall  f1-score   support\n",
            "\n",
            "           0       0.81      0.97      0.88      7412\n",
            "           1       0.75      0.29      0.41      2356\n",
            "\n",
            "    accuracy                           0.80      9768\n",
            "   macro avg       0.78      0.63      0.65      9768\n",
            "weighted avg       0.79      0.80      0.77      9768\n",
            "\n"
          ]
        }
      ]
    },
    {
      "cell_type": "code",
      "source": [
        "gdboost_report = classification_report(y_test,gdboost_yprad)\n",
        "print(\"gdboost classification_report\",'\\n',gdboost_report)"
      ],
      "metadata": {
        "id": "4IowMs6nWjla",
        "colab": {
          "base_uri": "https://localhost:8080/"
        },
        "outputId": "febfebb8-ccdf-47f3-f920-48bf577dc7f7"
      },
      "id": "4IowMs6nWjla",
      "execution_count": null,
      "outputs": [
        {
          "output_type": "stream",
          "name": "stdout",
          "text": [
            "gdboost classification_report \n",
            "               precision    recall  f1-score   support\n",
            "\n",
            "           0       0.89      0.95      0.92      7412\n",
            "           1       0.80      0.62      0.70      2356\n",
            "\n",
            "    accuracy                           0.87      9768\n",
            "   macro avg       0.84      0.78      0.81      9768\n",
            "weighted avg       0.86      0.87      0.86      9768\n",
            "\n"
          ]
        }
      ]
    },
    {
      "cell_type": "code",
      "source": [
        "xgboost_report = classification_report(y_test,xgboost_yprad)\n",
        "print(\"Xgboost classification_report\",'\\n',xgboost_report)"
      ],
      "metadata": {
        "id": "9JxUvlk7Ws85",
        "colab": {
          "base_uri": "https://localhost:8080/"
        },
        "outputId": "4397c554-7010-4a66-9b41-615d10f8c659"
      },
      "id": "9JxUvlk7Ws85",
      "execution_count": null,
      "outputs": [
        {
          "output_type": "stream",
          "name": "stdout",
          "text": [
            "Xgboost classification_report \n",
            "               precision    recall  f1-score   support\n",
            "\n",
            "           0       0.90      0.94      0.92      7412\n",
            "           1       0.78      0.68      0.73      2356\n",
            "\n",
            "    accuracy                           0.88      9768\n",
            "   macro avg       0.84      0.81      0.82      9768\n",
            "weighted avg       0.87      0.88      0.87      9768\n",
            "\n"
          ]
        }
      ]
    },
    {
      "cell_type": "code",
      "source": [
        "# 3 models gave F1 score above 90%\n",
        "# In order to check if our model is overfitted we are checking cross validation"
      ],
      "metadata": {
        "id": "6To7cTfPW5T9"
      },
      "id": "6To7cTfPW5T9",
      "execution_count": null,
      "outputs": []
    },
    {
      "cell_type": "code",
      "source": [
        "# ROC AUC Curve\n",
        "from sklearn.metrics import roc_curve, auc, roc_auc_score\n",
        "from sklearn.metrics import RocCurveDisplay\n",
        "\n",
        "print(roc_auc_score(y_test,lr.predict(x_test)))\n",
        "print(roc_auc_score(y_test,knn.predict(x_test)))\n",
        "print(roc_auc_score(y_test,dt.predict(x_test)))\n",
        "print(roc_auc_score(y_test,rf.predict(x_test)))\n",
        "print(roc_auc_score(y_test,adb.predict(x_test)))\n",
        "print(roc_auc_score(y_test,svm.predict(x_test)))\n",
        "print(roc_auc_score(y_test,gdboost.predict(x_test)))\n",
        "print(roc_auc_score(y_test,xgboost.predict(x_test)))"
      ],
      "metadata": {
        "id": "7BkiEofSXgYn",
        "colab": {
          "base_uri": "https://localhost:8080/"
        },
        "outputId": "3dde0ef3-5fa7-4788-efaa-42fe67248e9d"
      },
      "id": "7BkiEofSXgYn",
      "execution_count": null,
      "outputs": [
        {
          "output_type": "stream",
          "name": "stdout",
          "text": [
            "0.7644851830235373\n",
            "0.7982574488027949\n",
            "0.7485208449199526\n",
            "0.7799312728315575\n",
            "0.7840265224016117\n",
            "0.6273114446632222\n",
            "0.7841259344503522\n",
            "0.8107273617691497\n"
          ]
        }
      ]
    },
    {
      "cell_type": "code",
      "source": [
        "# Finding roc curve to check best fitted model\n",
        "\n",
        "disp = RocCurveDisplay.from_estimator(dt,x_test,y_test)\n",
        "RocCurveDisplay.from_estimator(lr,x_test,y_test,ax=disp.ax_)#here ax_ for axis with confusion matrics\n",
        "RocCurveDisplay.from_estimator(knn,x_test,y_test,ax=disp.ax_)\n",
        "RocCurveDisplay.from_estimator(dt,x_test,y_test,ax=disp.ax_)\n",
        "RocCurveDisplay.from_estimator(rf,x_test,y_test,ax=disp.ax_)\n",
        "RocCurveDisplay.from_estimator(adb,x_test,y_test,ax=disp.ax_)\n",
        "RocCurveDisplay.from_estimator(svm,x_test,y_test,ax=disp.ax_)\n",
        "RocCurveDisplay.from_estimator(gdboost,x_test,y_test,ax=disp.ax_)\n",
        "RocCurveDisplay.from_estimator(xgboost,x_test,y_test,ax=disp.ax_)\n",
        "plt.legend(prop = {'size':11}, loc = 'lower right')"
      ],
      "metadata": {
        "id": "8xFqzbj4cAFo",
        "colab": {
          "base_uri": "https://localhost:8080/",
          "height": 467
        },
        "outputId": "57600bd2-e182-4999-9508-b6db76f90da0"
      },
      "id": "8xFqzbj4cAFo",
      "execution_count": null,
      "outputs": [
        {
          "output_type": "execute_result",
          "data": {
            "text/plain": [
              "<matplotlib.legend.Legend at 0x7f5660e50a30>"
            ]
          },
          "metadata": {},
          "execution_count": 189
        },
        {
          "output_type": "display_data",
          "data": {
            "text/plain": [
              "<Figure size 640x480 with 1 Axes>"
            ],
            "image/png": "[encoded data removed]"
          },
          "metadata": {}
        }
      ]
    },
    {
      "cell_type": "code",
      "source": [
        "# Here also adaboost, Xgboost and gdboost gives the best results"
      ],
      "metadata": {
        "id": "-dA7zOgzjBdo"
      },
      "id": "-dA7zOgzjBdo",
      "execution_count": null,
      "outputs": []
    },
    {
      "cell_type": "code",
      "source": [
        "# K-Fold Cross Validation\n",
        "\n",
        "from sklearn.model_selection import KFold, cross_val_score\n",
        "\n",
        "k_f = KFold(n_splits=4,shuffle=True)\n",
        "k_f"
      ],
      "metadata": {
        "id": "-DMIJ7AGjREW",
        "colab": {
          "base_uri": "https://localhost:8080/"
        },
        "outputId": "9a2f2a4b-4b2e-4be9-c90e-887c2ed49151"
      },
      "id": "-DMIJ7AGjREW",
      "execution_count": null,
      "outputs": [
        {
          "output_type": "execute_result",
          "data": {
            "text/plain": [
              "KFold(n_splits=4, random_state=None, shuffle=True)"
            ]
          },
          "metadata": {},
          "execution_count": 191
        }
      ]
    },
    {
      "cell_type": "code",
      "source": [
        "print(\"Mean of Cross validation score for adaboost model\" \"=>\",cross_val_score(adb,x,y,cv=5).mean())\n",
        "print(\"Mean of Cross validation score for gdboost model\" \"=>\",cross_val_score(gdboost,x,y,cv=5).mean())\n",
        "print(\"Mean of Cross validation score for xgboost model\" \"=>\",cross_val_score(xgboost,x,y,cv=5).mean())"
      ],
      "metadata": {
        "id": "Gs92wHwTjtJJ",
        "colab": {
          "base_uri": "https://localhost:8080/"
        },
        "outputId": "cfb200e8-ccb9-4b11-c094-ba749181a7bd"
      },
      "id": "Gs92wHwTjtJJ",
      "execution_count": null,
      "outputs": [
        {
          "output_type": "stream",
          "name": "stdout",
          "text": [
            "Mean of Cross validation score for adaboost model=> 0.860995085995086\n",
            "Mean of Cross validation score for gdboost model=> 0.8658169533169533\n",
            "Mean of Cross validation score for xgboost model=> 0.871468058968059\n"
          ]
        }
      ]
    },
    {
      "cell_type": "code",
      "source": [
        "# Hyperparameter tunning"
      ],
      "metadata": {
        "id": "ikeQfhkVor1w"
      },
      "id": "ikeQfhkVor1w",
      "execution_count": null,
      "outputs": []
    },
    {
      "cell_type": "code",
      "source": [],
      "metadata": {
        "id": "6JZ50RC1ucLv"
      },
      "id": "6JZ50RC1ucLv",
      "execution_count": null,
      "outputs": []
    },
    {
      "cell_type": "code",
      "source": [
        "from sklearn.model_selection import GridSearchCV\n",
        "\n",
        "xgboost.get_params().keys() # to check parameters\n",
        "\n",
        "parm_grid = {'max_depth' : [3,4],\n",
        "             'subsample' : [0.5,0.8],\n",
        "             'learning_rate': [0.1],\n",
        "             'min_child_weight': [1,2],\n",
        "             'random_state': [4,5]}\n",
        "\n",
        "# parm_grid\n",
        "# {\n",
        "#     'max_depth' : [3,4],\n",
        "#     'subsample' : [0.5,0.8],\n",
        "#     'learning rate': [0.1],\n",
        "#     'min_child_weight': [1,2],\n",
        "#     'random_state': [4,5]}\n",
        "\n",
        "#giving above parameters to our model and behalf of this will train it again\n",
        "\n",
        "gridsearch = GridSearchCV(estimator=xgboost, param_grid=parm_grid, scoring='accuracy', cv=5)\n",
        "\n",
        "# fit model using given parameters\n",
        "\n",
        "gridsearch.fit(x_train,y_train)\n",
        "\n",
        "#training the model now"
      ],
      "metadata": {
        "id": "hiOpUje2ovdI",
        "outputId": "24f76f53-03e4-412f-9665-baac573d598e",
        "colab": {
          "base_uri": "https://localhost:8080/",
          "height": 118
        }
      },
      "id": "hiOpUje2ovdI",
      "execution_count": null,
      "outputs": [
        {
          "output_type": "execute_result",
          "data": {
            "text/plain": [
              "GridSearchCV(cv=5,\n",
              "             estimator=XGBClassifier(base_score=None, booster=None,\n",
              "                                     callbacks=None, colsample_bylevel=None,\n",
              "                                     colsample_bynode=None,\n",
              "                                     colsample_bytree=None,\n",
              "                                     early_stopping_rounds=None,\n",
              "                                     enable_categorical=False, eval_metric=None,\n",
              "                                     feature_types=None, gamma=None,\n",
              "                                     gpu_id=None, grow_policy=None,\n",
              "                                     importance_type=None,\n",
              "                                     interaction_constraints=None,\n",
              "                                     learning_rate=None,...\n",
              "                                     max_cat_to_onehot=None,\n",
              "                                     max_delta_step=None, max_depth=None,\n",
              "                                     max_leaves=None, min_child_weight=None,\n",
              "                                     missing=nan, monotone_constraints=None,\n",
              "                                     n_estimators=100, n_jobs=None,\n",
              "                                     num_parallel_tree=None, predictor=None,\n",
              "                                     random_state=None, ...),\n",
              "             param_grid={'learning_rate': [0.1], 'max_depth': [3, 4],\n",
              "                         'min_child_weight': [1, 2], 'random_state': [4, 5],\n",
              "                         'subsample': [0.5, 0.8]},\n",
              "             scoring='accuracy')"
            ],
            "text/html": [
              "<style>#sk-container-id-1 {color: black;background-color: white;}#sk-container-id-1 pre{padding: 0;}#sk-container-id-1 div.sk-toggleable {background-color: white;}#sk-container-id-1 label.sk-toggleable__label {cursor: pointer;display: block;width: 100%;margin-bottom: 0;padding: 0.3em;box-sizing: border-box;text-align: center;}#sk-container-id-1 label.sk-toggleable__label-arrow:before {content: \"▸\";float: left;margin-right: 0.25em;color: #696969;}#sk-container-id-1 label.sk-toggleable__label-arrow:hover:before {color: black;}#sk-container-id-1 div.sk-estimator:hover label.sk-toggleable__label-arrow:before {color: black;}#sk-container-id-1 div.sk-toggleable__content {max-height: 0;max-width: 0;overflow: hidden;text-align: left;background-color: #f0f8ff;}#sk-container-id-1 div.sk-toggleable__content pre {margin: 0.2em;color: black;border-radius: 0.25em;background-color: #f0f8ff;}#sk-container-id-1 input.sk-toggleable__control:checked~div.sk-toggleable__content {max-height: 200px;max-width: 100%;overflow: auto;}#sk-container-id-1 input.sk-toggleable__control:checked~label.sk-toggleable__label-arrow:before {content: \"▾\";}#sk-container-id-1 div.sk-estimator input.sk-toggleable__control:checked~label.sk-toggleable__label {background-color: #d4ebff;}#sk-container-id-1 div.sk-label input.sk-toggleable__control:checked~label.sk-toggleable__label {background-color: #d4ebff;}#sk-container-id-1 input.sk-hidden--visually {border: 0;clip: rect(1px 1px 1px 1px);clip: rect(1px, 1px, 1px, 1px);height: 1px;margin: -1px;overflow: hidden;padding: 0;position: absolute;width: 1px;}#sk-container-id-1 div.sk-estimator {font-family: monospace;background-color: #f0f8ff;border: 1px dotted black;border-radius: 0.25em;box-sizing: border-box;margin-bottom: 0.5em;}#sk-container-id-1 div.sk-estimator:hover {background-color: #d4ebff;}#sk-container-id-1 div.sk-parallel-item::after {content: \"\";width: 100%;border-bottom: 1px solid gray;flex-grow: 1;}#sk-container-id-1 div.sk-label:hover label.sk-toggleable__label {background-color: #d4ebff;}#sk-container-id-1 div.sk-serial::before {content: \"\";position: absolute;border-left: 1px solid gray;box-sizing: border-box;top: 0;bottom: 0;left: 50%;z-index: 0;}#sk-container-id-1 div.sk-serial {display: flex;flex-direction: column;align-items: center;background-color: white;padding-right: 0.2em;padding-left: 0.2em;position: relative;}#sk-container-id-1 div.sk-item {position: relative;z-index: 1;}#sk-container-id-1 div.sk-parallel {display: flex;align-items: stretch;justify-content: center;background-color: white;position: relative;}#sk-container-id-1 div.sk-item::before, #sk-container-id-1 div.sk-parallel-item::before {content: \"\";position: absolute;border-left: 1px solid gray;box-sizing: border-box;top: 0;bottom: 0;left: 50%;z-index: -1;}#sk-container-id-1 div.sk-parallel-item {display: flex;flex-direction: column;z-index: 1;position: relative;background-color: white;}#sk-container-id-1 div.sk-parallel-item:first-child::after {align-self: flex-end;width: 50%;}#sk-container-id-1 div.sk-parallel-item:last-child::after {align-self: flex-start;width: 50%;}#sk-container-id-1 div.sk-parallel-item:only-child::after {width: 0;}#sk-container-id-1 div.sk-dashed-wrapped {border: 1px dashed gray;margin: 0 0.4em 0.5em 0.4em;box-sizing: border-box;padding-bottom: 0.4em;background-color: white;}#sk-container-id-1 div.sk-label label {font-family: monospace;font-weight: bold;display: inline-block;line-height: 1.2em;}#sk-container-id-1 div.sk-label-container {text-align: center;}#sk-container-id-1 div.sk-container {/* jupyter's `normalize.less` sets `[hidden] { display: none; }` but bootstrap.min.css set `[hidden] { display: none !important; }` so we also need the `!important` here to be able to override the default hidden behavior on the sphinx rendered scikit-learn.org. See: https://github.com/scikit-learn/scikit-learn/issues/21755 */display: inline-block !important;position: relative;}#sk-container-id-1 div.sk-text-repr-fallback {display: none;}</style><div id=\"sk-container-id-1\" class=\"sk-top-container\"><div class=\"sk-text-repr-fallback\"><pre>GridSearchCV(cv=5,\n",
              "             estimator=XGBClassifier(base_score=None, booster=None,\n",
              "                                     callbacks=None, colsample_bylevel=None,\n",
              "                                     colsample_bynode=None,\n",
              "                                     colsample_bytree=None,\n",
              "                                     early_stopping_rounds=None,\n",
              "                                     enable_categorical=False, eval_metric=None,\n",
              "                                     feature_types=None, gamma=None,\n",
              "                                     gpu_id=None, grow_policy=None,\n",
              "                                     importance_type=None,\n",
              "                                     interaction_constraints=None,\n",
              "                                     learning_rate=None,...\n",
              "                                     max_cat_to_onehot=None,\n",
              "                                     max_delta_step=None, max_depth=None,\n",
              "                                     max_leaves=None, min_child_weight=None,\n",
              "                                     missing=nan, monotone_constraints=None,\n",
              "                                     n_estimators=100, n_jobs=None,\n",
              "                                     num_parallel_tree=None, predictor=None,\n",
              "                                     random_state=None, ...),\n",
              "             param_grid={&#x27;learning_rate&#x27;: [0.1], &#x27;max_depth&#x27;: [3, 4],\n",
              "                         &#x27;min_child_weight&#x27;: [1, 2], &#x27;random_state&#x27;: [4, 5],\n",
              "                         &#x27;subsample&#x27;: [0.5, 0.8]},\n",
              "             scoring=&#x27;accuracy&#x27;)</pre><b>In a Jupyter environment, please rerun this cell to show the HTML representation or trust the notebook. <br />On GitHub, the HTML representation is unable to render, please try loading this page with nbviewer.org.</b></div><div class=\"sk-container\" hidden><div class=\"sk-item sk-dashed-wrapped\"><div class=\"sk-label-container\"><div class=\"sk-label sk-toggleable\"><input class=\"sk-toggleable__control sk-hidden--visually\" id=\"sk-estimator-id-1\" type=\"checkbox\" ><label for=\"sk-estimator-id-1\" class=\"sk-toggleable__label sk-toggleable__label-arrow\">GridSearchCV</label><div class=\"sk-toggleable__content\"><pre>GridSearchCV(cv=5,\n",
              "             estimator=XGBClassifier(base_score=None, booster=None,\n",
              "                                     callbacks=None, colsample_bylevel=None,\n",
              "                                     colsample_bynode=None,\n",
              "                                     colsample_bytree=None,\n",
              "                                     early_stopping_rounds=None,\n",
              "                                     enable_categorical=False, eval_metric=None,\n",
              "                                     feature_types=None, gamma=None,\n",
              "                                     gpu_id=None, grow_policy=None,\n",
              "                                     importance_type=None,\n",
              "                                     interaction_constraints=None,\n",
              "                                     learning_rate=None,...\n",
              "                                     max_cat_to_onehot=None,\n",
              "                                     max_delta_step=None, max_depth=None,\n",
              "                                     max_leaves=None, min_child_weight=None,\n",
              "                                     missing=nan, monotone_constraints=None,\n",
              "                                     n_estimators=100, n_jobs=None,\n",
              "                                     num_parallel_tree=None, predictor=None,\n",
              "                                     random_state=None, ...),\n",
              "             param_grid={&#x27;learning_rate&#x27;: [0.1], &#x27;max_depth&#x27;: [3, 4],\n",
              "                         &#x27;min_child_weight&#x27;: [1, 2], &#x27;random_state&#x27;: [4, 5],\n",
              "                         &#x27;subsample&#x27;: [0.5, 0.8]},\n",
              "             scoring=&#x27;accuracy&#x27;)</pre></div></div></div><div class=\"sk-parallel\"><div class=\"sk-parallel-item\"><div class=\"sk-item\"><div class=\"sk-label-container\"><div class=\"sk-label sk-toggleable\"><input class=\"sk-toggleable__control sk-hidden--visually\" id=\"sk-estimator-id-2\" type=\"checkbox\" ><label for=\"sk-estimator-id-2\" class=\"sk-toggleable__label sk-toggleable__label-arrow\">estimator: XGBClassifier</label><div class=\"sk-toggleable__content\"><pre>XGBClassifier(base_score=None, booster=None, callbacks=None,\n",
              "              colsample_bylevel=None, colsample_bynode=None,\n",
              "              colsample_bytree=None, early_stopping_rounds=None,\n",
              "              enable_categorical=False, eval_metric=None, feature_types=None,\n",
              "              gamma=None, gpu_id=None, grow_policy=None, importance_type=None,\n",
              "              interaction_constraints=None, learning_rate=None, max_bin=None,\n",
              "              max_cat_threshold=None, max_cat_to_onehot=None,\n",
              "              max_delta_step=None, max_depth=None, max_leaves=None,\n",
              "              min_child_weight=None, missing=nan, monotone_constraints=None,\n",
              "              n_estimators=100, n_jobs=None, num_parallel_tree=None,\n",
              "              predictor=None, random_state=None, ...)</pre></div></div></div><div class=\"sk-serial\"><div class=\"sk-item\"><div class=\"sk-estimator sk-toggleable\"><input class=\"sk-toggleable__control sk-hidden--visually\" id=\"sk-estimator-id-3\" type=\"checkbox\" ><label for=\"sk-estimator-id-3\" class=\"sk-toggleable__label sk-toggleable__label-arrow\">XGBClassifier</label><div class=\"sk-toggleable__content\"><pre>XGBClassifier(base_score=None, booster=None, callbacks=None,\n",
              "              colsample_bylevel=None, colsample_bynode=None,\n",
              "              colsample_bytree=None, early_stopping_rounds=None,\n",
              "              enable_categorical=False, eval_metric=None, feature_types=None,\n",
              "              gamma=None, gpu_id=None, grow_policy=None, importance_type=None,\n",
              "              interaction_constraints=None, learning_rate=None, max_bin=None,\n",
              "              max_cat_threshold=None, max_cat_to_onehot=None,\n",
              "              max_delta_step=None, max_depth=None, max_leaves=None,\n",
              "              min_child_weight=None, missing=nan, monotone_constraints=None,\n",
              "              n_estimators=100, n_jobs=None, num_parallel_tree=None,\n",
              "              predictor=None, random_state=None, ...)</pre></div></div></div></div></div></div></div></div></div></div>"
            ]
          },
          "metadata": {},
          "execution_count": 194
        }
      ]
    },
    {
      "cell_type": "code",
      "source": [
        "# Printing best parameters\n",
        "gridsearch.best_params_"
      ],
      "metadata": {
        "colab": {
          "base_uri": "https://localhost:8080/"
        },
        "id": "Wsrk_lm-DH2Y",
        "outputId": "15d8e97c-a0bf-4e41-a965-452075ea1a68"
      },
      "id": "Wsrk_lm-DH2Y",
      "execution_count": null,
      "outputs": [
        {
          "output_type": "execute_result",
          "data": {
            "text/plain": [
              "{'learning_rate': 0.1,\n",
              " 'max_depth': 4,\n",
              " 'min_child_weight': 2,\n",
              " 'random_state': 4,\n",
              " 'subsample': 0.8}"
            ]
          },
          "metadata": {},
          "execution_count": 195
        }
      ]
    },
    {
      "cell_type": "code",
      "source": [
        "from numpy import nan"
      ],
      "metadata": {
        "id": "kma2F24iGZLb"
      },
      "id": "kma2F24iGZLb",
      "execution_count": null,
      "outputs": []
    },
    {
      "cell_type": "code",
      "source": [
        "xgboost_tuning= XGBClassifier(learning_rate=0.1, max_depth = 4, min_child_weight=2, random_state=4, subsample=0.8)\n",
        "\n",
        "#supplying best parameters to our model\n",
        "xgboost_tuning.fit(x_train,y_train)\n",
        "#train the model\n",
        "XGBClassifier(base_score=0.5, booster='gbtree', colsample_bylevel=1,\n",
        "              colsample_bynode=1, colsample_bytree=1, gamma=0, gpu_id=-1,\n",
        "              importance_type='gain', interaction_constraints='',\n",
        "              learning_rate=0.1, max_delta_step=0, max_depth=4,\n",
        "              min_child_weight=2, missing= nan, monotone_constraints='()',\n",
        "              n_estimators=100, n_jobs=2, num_parallel_tree=1, random_state=4,\n",
        "              reg_alpha=0, reg_lambda=1, scale_pos_weight=1, subsample=0.8,\n",
        "              tree_method='exact', validate_parameters=1, )\n",
        "#predicting the values using test data\n",
        "xgboost_tuning_yprad = xgboost_tuning.predict(x_test)\n",
        "\n",
        "# printing the classification report\n",
        "\n",
        "xgboost_report = classification_report(y_test,xgboost_tuning_yprad)\n",
        "print(\"xgboost classification_report\", '\\n', xgboost_report)"
      ],
      "metadata": {
        "colab": {
          "base_uri": "https://localhost:8080/"
        },
        "id": "lYReeRtyDa2A",
        "outputId": "2cff1f08-e5b0-444b-ea25-fb42c1d2b643"
      },
      "id": "lYReeRtyDa2A",
      "execution_count": null,
      "outputs": [
        {
          "output_type": "stream",
          "name": "stdout",
          "text": [
            "xgboost classification_report \n",
            "               precision    recall  f1-score   support\n",
            "\n",
            "           0       0.89      0.95      0.92      7412\n",
            "           1       0.79      0.65      0.71      2356\n",
            "\n",
            "    accuracy                           0.87      9768\n",
            "   macro avg       0.84      0.80      0.82      9768\n",
            "weighted avg       0.87      0.87      0.87      9768\n",
            "\n"
          ]
        }
      ]
    },
    {
      "cell_type": "code",
      "source": [
        "# Saving Model\n",
        "\n",
        "import pickle\n",
        "\n",
        "Census_model = 'Census_model.pickle'\n",
        "pickle.dump(xgboost_tuning,open(Census_model,'wb'))"
      ],
      "metadata": {
        "id": "27Tm652fGfdL"
      },
      "id": "27Tm652fGfdL",
      "execution_count": null,
      "outputs": []
    }
  ],
  "metadata": {
    "kernelspec": {
      "display_name": "Python 3 (ipykernel)",
      "language": "python",
      "name": "python3"
    },
    "language_info": {
      "codemirror_mode": {
        "name": "ipython",
        "version": 3
      },
      "file_extension": ".py",
      "mimetype": "text/x-python",
      "name": "python",
      "nbconvert_exporter": "python",
      "pygments_lexer": "ipython3",
      "version": "3.8.10"
    },
    "colab": {
      "provenance": [],
      "include_colab_link": true
    }
  },
  "nbformat": 4,
  "nbformat_minor": 5
}